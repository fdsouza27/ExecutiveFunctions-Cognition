{
 "cells": [
  {
   "cell_type": "code",
   "execution_count": 1,
   "id": "6aa535bd-1e8d-4699-b064-fd119724107d",
   "metadata": {},
   "outputs": [],
   "source": [
    "import os\n",
    "import pandas as pd\n",
    "import numpy as np"
   ]
  },
  {
   "cell_type": "code",
   "execution_count": 2,
   "id": "70bfdcdd-752d-41d4-bfe0-7e4cc2969e6a",
   "metadata": {},
   "outputs": [],
   "source": [
    "main_dir = 'C:/Users/FANNY MARIA D SOUZA/Capstone_Movement/VR Data/C021 A/'\n",
    "file_name = 'C021_SimpleStew_MovementData.csv'\n",
    "\n",
    "file_path = os.path.join(main_dir, file_name)\n",
    "\n",
    "df1 = pd.read_csv(file_path)"
   ]
  },
  {
   "cell_type": "code",
   "execution_count": 3,
   "id": "578034c7-b0f6-43ad-8f9d-6840ae9b3b58",
   "metadata": {},
   "outputs": [
    {
     "data": {
      "text/plain": [
       "(31793, 58)"
      ]
     },
     "execution_count": 3,
     "metadata": {},
     "output_type": "execute_result"
    }
   ],
   "source": [
    "df1.shape"
   ]
  },
  {
   "cell_type": "code",
   "execution_count": 4,
   "id": "2cca4522-06f9-4d8e-a6a8-b65650cebef5",
   "metadata": {},
   "outputs": [
    {
     "data": {
      "text/plain": [
       "Index(['Times', 'Chest Tracker_LOCATION_X', 'Chest Tracker_LOCATION_Y',\n",
       "       'Chest Tracker_LOCATION_Z', '_ROTATION_W', '_ROTATION_X', '_ROTATION_Y',\n",
       "       '_ROTATION_Z', 'LeftShoulder Tracker_LOCATION_X',\n",
       "       'LeftShoulder Tracker_LOCATION_Y', 'LeftShoulder Tracker_LOCATION_Z',\n",
       "       '_ROTATION_W.1', '_ROTATION_X.1', '_ROTATION_Y.1', '_ROTATION_Z.1',\n",
       "       'RightShoulder Tracker_LOCATION_X', 'RightShoulder Tracker_LOCATION_Y',\n",
       "       'RightShoulder Tracker_LOCATION_Z', '_ROTATION_W.2', '_ROTATION_X.2',\n",
       "       '_ROTATION_Y.2', '_ROTATION_Z.2', 'LeftElbow Tracker_LOCATION_X',\n",
       "       'LeftElbow Tracker_LOCATION_Y', 'LeftElbow Tracker_LOCATION_Z',\n",
       "       '_ROTATION_W.3', '_ROTATION_X.3', '_ROTATION_Y.3', '_ROTATION_Z.3',\n",
       "       'RightElbow Tracker_LOCATION_X', 'RightElbow Tracker_LOCATION_Y',\n",
       "       'RightElbow Tracker_LOCATION_Z', '_ROTATION_W.4', '_ROTATION_X.4',\n",
       "       '_ROTATION_Y.4', '_ROTATION_Z.4', 'MotionControllerLeft_LOCATION_X',\n",
       "       'MotionControllerLeft_LOCATION_Y', 'MotionControllerLeft_LOCATION_Z',\n",
       "       '_ROTATION_W.5', '_ROTATION_X.5', '_ROTATION_Y.5', '_ROTATION_Z.5',\n",
       "       'MotionControllerRight_LOCATION_X', 'MotionControllerRight_LOCATION_Y',\n",
       "       'MotionControllerRight_LOCATION_Z', '_ROTATION_W.6', '_ROTATION_X.6',\n",
       "       '_ROTATION_Y.6', '_ROTATION_Z.6', 'HeadCamera_LOCATION_X',\n",
       "       'HeadCamera_LOCATION_Y', 'HeadCamera_LOCATION_Z', '_ROTATION_W.7',\n",
       "       '_ROTATION_X.7', '_ROTATION_Y.7', '_ROTATION_Z.7', 'Unnamed: 57'],\n",
       "      dtype='object')"
      ]
     },
     "execution_count": 4,
     "metadata": {},
     "output_type": "execute_result"
    }
   ],
   "source": [
    "df1.columns"
   ]
  },
  {
   "cell_type": "code",
   "execution_count": 5,
   "id": "eb95d8a3-03cb-43b1-aa2e-1b590513631b",
   "metadata": {},
   "outputs": [],
   "source": [
    "df1 = df1.drop(columns=['Unnamed: 57'])"
   ]
  },
  {
   "cell_type": "markdown",
   "id": "8c325590-ef46-4c50-a4e8-7ba654cd32fa",
   "metadata": {},
   "source": [
    "#### 1) Euclidean Distance - Chest Tracker "
   ]
  },
  {
   "cell_type": "markdown",
   "id": "9b2a3f97-129a-4444-8f5c-71723792542d",
   "metadata": {},
   "source": [
    "##### Note - Euclidean Distance helps in computing distance between position coordinates. diff() function in pandas is used to compute the difference between the values of a DataFrame or Series across a specified axis (usually rows). By default, it calculates the difference between the current row and the previous row."
   ]
  },
  {
   "cell_type": "code",
   "execution_count": 6,
   "id": "3bb1f64e-7367-4caf-90c0-14d64f15abcf",
   "metadata": {},
   "outputs": [],
   "source": [
    "# Calculate Euclidean distance between consecutive time frames for the Chest Tracker\n",
    "df1['Chest Euclidean Distance'] = np.sqrt(\n",
    "    (df1['Chest Tracker_LOCATION_X'].diff() ** 2) + \n",
    "    (df1['Chest Tracker_LOCATION_Y'].diff() ** 2) + \n",
    "    (df1['Chest Tracker_LOCATION_Z'].diff() ** 2)\n",
    ")\n"
   ]
  },
  {
   "cell_type": "markdown",
   "id": "ea6a14ee-fcbf-4be1-924b-4f41fad22340",
   "metadata": {},
   "source": [
    "#### 2) Left Shoulder Tracker"
   ]
  },
  {
   "cell_type": "code",
   "execution_count": 7,
   "id": "3c3fa19d-0941-49da-b404-c293836b870e",
   "metadata": {},
   "outputs": [],
   "source": [
    "df1['LeftShoulder Euclidean Distance'] = np.sqrt(\n",
    "    (df1['LeftShoulder Tracker_LOCATION_X'].diff() ** 2) + \n",
    "    (df1['LeftShoulder Tracker_LOCATION_Y'].diff() ** 2) + \n",
    "    (df1['LeftShoulder Tracker_LOCATION_Z'].diff() ** 2)\n",
    ")"
   ]
  },
  {
   "cell_type": "markdown",
   "id": "fa5f0aef-8451-49ba-834d-036bdec7d482",
   "metadata": {},
   "source": [
    "#### 3) Right Shoulder Tracker"
   ]
  },
  {
   "cell_type": "code",
   "execution_count": 8,
   "id": "0064abe4-3a04-4ad1-9ce6-05ce4e6306c2",
   "metadata": {},
   "outputs": [],
   "source": [
    "df1['RightShoulder Euclidean Distance'] = np.sqrt(\n",
    "    (df1['RightShoulder Tracker_LOCATION_X'].diff() ** 2) + \n",
    "    (df1['RightShoulder Tracker_LOCATION_Y'].diff() ** 2) + \n",
    "    (df1['RightShoulder Tracker_LOCATION_Z'].diff() ** 2)\n",
    ")"
   ]
  },
  {
   "cell_type": "markdown",
   "id": "834ac4fd-4b13-456c-91f9-0848e63ec159",
   "metadata": {},
   "source": [
    "#### 4) Left Elbow Tracker"
   ]
  },
  {
   "cell_type": "code",
   "execution_count": 9,
   "id": "40966776-95e1-4f2e-a42c-53d55beeb459",
   "metadata": {},
   "outputs": [],
   "source": [
    "df1['LeftElbow Euclidean Distance'] = np.sqrt(\n",
    "    (df1['LeftElbow Tracker_LOCATION_X'].diff() ** 2) + \n",
    "    (df1['LeftElbow Tracker_LOCATION_Y'].diff() ** 2) + \n",
    "    (df1['LeftElbow Tracker_LOCATION_Z'].diff() ** 2)\n",
    ")\n"
   ]
  },
  {
   "cell_type": "markdown",
   "id": "430ca063-f2df-4ddb-b55c-f8f596a30d96",
   "metadata": {},
   "source": [
    "#### 5) Right Elbow Tracker"
   ]
  },
  {
   "cell_type": "code",
   "execution_count": 10,
   "id": "01ceec15-0554-4f4f-a8ea-4496eccd0e99",
   "metadata": {},
   "outputs": [],
   "source": [
    "df1['RightElbow Euclidean Distance'] = np.sqrt(\n",
    "    (df1['RightElbow Tracker_LOCATION_X'].diff() ** 2) + \n",
    "    (df1['RightElbow Tracker_LOCATION_Y'].diff() ** 2) + \n",
    "    (df1['RightElbow Tracker_LOCATION_Z'].diff() ** 2)\n",
    ")\n"
   ]
  },
  {
   "cell_type": "markdown",
   "id": "4f548bd0-374e-4ddf-9194-008e31a96e36",
   "metadata": {},
   "source": [
    "#### 6) Motion Controller Left"
   ]
  },
  {
   "cell_type": "code",
   "execution_count": 11,
   "id": "809850ae-bccf-4b12-bfb4-a06c45c6e833",
   "metadata": {},
   "outputs": [],
   "source": [
    "df1['MotionControllerLeft Euclidean Distance'] = np.sqrt(\n",
    "    (df1['MotionControllerLeft_LOCATION_X'].diff() ** 2) + \n",
    "    (df1['MotionControllerLeft_LOCATION_Y'].diff() ** 2) + \n",
    "    (df1['MotionControllerLeft_LOCATION_Z'].diff() ** 2)\n",
    ")"
   ]
  },
  {
   "cell_type": "markdown",
   "id": "ed230905-940a-466a-8247-591a2b9ffb96",
   "metadata": {},
   "source": [
    "#### 7) Motion Controller Right"
   ]
  },
  {
   "cell_type": "code",
   "execution_count": 12,
   "id": "e06558f0-3027-4e0a-bb98-5f4360a6beb6",
   "metadata": {},
   "outputs": [],
   "source": [
    "df1['MotionControllerRight Euclidean Distance'] = np.sqrt(\n",
    "    (df1['MotionControllerRight_LOCATION_X'].diff() ** 2) + \n",
    "    (df1['MotionControllerRight_LOCATION_Y'].diff() ** 2) + \n",
    "    (df1['MotionControllerRight_LOCATION_Z'].diff() ** 2)\n",
    ")"
   ]
  },
  {
   "cell_type": "markdown",
   "id": "eb5ea26d-ea76-4f1d-adcc-98f98ff408b9",
   "metadata": {},
   "source": [
    "#### 8) Head Camera"
   ]
  },
  {
   "cell_type": "code",
   "execution_count": 13,
   "id": "e258edfe-dd7d-44f8-a41a-754d54efd2b8",
   "metadata": {},
   "outputs": [],
   "source": [
    "df1['HeadCamera Euclidean Distance'] = np.sqrt(\n",
    "    (df1['HeadCamera_LOCATION_X'].diff() ** 2) + \n",
    "    (df1['HeadCamera_LOCATION_Y'].diff() ** 2) + \n",
    "    (df1['HeadCamera_LOCATION_Z'].diff() ** 2)\n",
    ")"
   ]
  },
  {
   "cell_type": "code",
   "execution_count": 14,
   "id": "dd5c0ae1-0345-4b47-a232-23a5e376f1d9",
   "metadata": {},
   "outputs": [
    {
     "data": {
      "text/html": [
       "<div>\n",
       "<style scoped>\n",
       "    .dataframe tbody tr th:only-of-type {\n",
       "        vertical-align: middle;\n",
       "    }\n",
       "\n",
       "    .dataframe tbody tr th {\n",
       "        vertical-align: top;\n",
       "    }\n",
       "\n",
       "    .dataframe thead th {\n",
       "        text-align: right;\n",
       "    }\n",
       "</style>\n",
       "<table border=\"1\" class=\"dataframe\">\n",
       "  <thead>\n",
       "    <tr style=\"text-align: right;\">\n",
       "      <th></th>\n",
       "      <th>Tracker</th>\n",
       "      <th>Total Distance</th>\n",
       "    </tr>\n",
       "  </thead>\n",
       "  <tbody>\n",
       "    <tr>\n",
       "      <th>0</th>\n",
       "      <td>Chest</td>\n",
       "      <td>3949.856691</td>\n",
       "    </tr>\n",
       "    <tr>\n",
       "      <th>1</th>\n",
       "      <td>LeftShoulder</td>\n",
       "      <td>5554.345131</td>\n",
       "    </tr>\n",
       "    <tr>\n",
       "      <th>2</th>\n",
       "      <td>RightShoulder</td>\n",
       "      <td>7882.893811</td>\n",
       "    </tr>\n",
       "    <tr>\n",
       "      <th>3</th>\n",
       "      <td>LeftElbow</td>\n",
       "      <td>6274.606614</td>\n",
       "    </tr>\n",
       "    <tr>\n",
       "      <th>4</th>\n",
       "      <td>RightElbow</td>\n",
       "      <td>12322.960956</td>\n",
       "    </tr>\n",
       "    <tr>\n",
       "      <th>5</th>\n",
       "      <td>MotionControllerLeft</td>\n",
       "      <td>7579.732127</td>\n",
       "    </tr>\n",
       "    <tr>\n",
       "      <th>6</th>\n",
       "      <td>MotionControllerRight</td>\n",
       "      <td>15740.776787</td>\n",
       "    </tr>\n",
       "    <tr>\n",
       "      <th>7</th>\n",
       "      <td>HeadCamera</td>\n",
       "      <td>5474.071393</td>\n",
       "    </tr>\n",
       "  </tbody>\n",
       "</table>\n",
       "</div>"
      ],
      "text/plain": [
       "                 Tracker  Total Distance\n",
       "0                  Chest     3949.856691\n",
       "1           LeftShoulder     5554.345131\n",
       "2          RightShoulder     7882.893811\n",
       "3              LeftElbow     6274.606614\n",
       "4             RightElbow    12322.960956\n",
       "5   MotionControllerLeft     7579.732127\n",
       "6  MotionControllerRight    15740.776787\n",
       "7             HeadCamera     5474.071393"
      ]
     },
     "execution_count": 14,
     "metadata": {},
     "output_type": "execute_result"
    }
   ],
   "source": [
    "total_distances = {\n",
    "    'Tracker': ['Chest', 'LeftShoulder', 'RightShoulder', 'LeftElbow', 'RightElbow', \n",
    "                'MotionControllerLeft', 'MotionControllerRight', 'HeadCamera'],\n",
    "    'Total Distance': [\n",
    "        df1['Chest Euclidean Distance'].sum(),\n",
    "        df1['LeftShoulder Euclidean Distance'].sum(),\n",
    "        df1['RightShoulder Euclidean Distance'].sum(),\n",
    "        df1['LeftElbow Euclidean Distance'].sum(),\n",
    "        df1['RightElbow Euclidean Distance'].sum(),\n",
    "        df1['MotionControllerLeft Euclidean Distance'].sum(),\n",
    "        df1['MotionControllerRight Euclidean Distance'].sum(),\n",
    "        df1['HeadCamera Euclidean Distance'].sum()\n",
    "    ]\n",
    "}\n",
    "\n",
    "# Create a new DataFrame from the dictionary\n",
    "total_distances_df = pd.DataFrame(total_distances)\n",
    "\n",
    "# Display the new dataframe\n",
    "total_distances_df"
   ]
  },
  {
   "cell_type": "code",
   "execution_count": 15,
   "id": "ca9ac5b8-9eee-490d-9235-dda249913c4f",
   "metadata": {},
   "outputs": [],
   "source": [
    "main_dir = 'C:/Users/FANNY MARIA D SOUZA/Capstone_Movement/VR Data/C021 A/'\n",
    "file_name = 'C021_SimpleStew_CompletedStepsData.csv'\n",
    "\n",
    "file_path = os.path.join(main_dir, file_name)\n",
    "\n",
    "df2 = pd.read_csv(file_path)"
   ]
  },
  {
   "cell_type": "code",
   "execution_count": 16,
   "id": "627d566b-25d7-4c13-ae8e-41881c90f02b",
   "metadata": {},
   "outputs": [],
   "source": [
    "df1.rename(columns={'Times': 'Session Time'}, inplace=True)\n",
    "df = pd.merge(df1, df2, on='Session Time', how='outer')"
   ]
  },
  {
   "cell_type": "code",
   "execution_count": 17,
   "id": "286ab175-c30c-459f-92d1-69fdc98a43ba",
   "metadata": {},
   "outputs": [],
   "source": [
    "df = df.sort_values(by='Session Time')"
   ]
  },
  {
   "cell_type": "code",
   "execution_count": 18,
   "id": "ef35bce0-8f00-4032-865d-28d7c2f1f7eb",
   "metadata": {},
   "outputs": [
    {
     "data": {
      "text/html": [
       "<div>\n",
       "<style scoped>\n",
       "    .dataframe tbody tr th:only-of-type {\n",
       "        vertical-align: middle;\n",
       "    }\n",
       "\n",
       "    .dataframe tbody tr th {\n",
       "        vertical-align: top;\n",
       "    }\n",
       "\n",
       "    .dataframe thead th {\n",
       "        text-align: right;\n",
       "    }\n",
       "</style>\n",
       "<table border=\"1\" class=\"dataframe\">\n",
       "  <thead>\n",
       "    <tr style=\"text-align: right;\">\n",
       "      <th>Tracker</th>\n",
       "      <th>Step</th>\n",
       "      <th>Chest Euclidean Distance</th>\n",
       "      <th>HeadCamera Euclidean Distance</th>\n",
       "      <th>LeftElbow Euclidean Distance</th>\n",
       "      <th>LeftShoulder Euclidean Distance</th>\n",
       "      <th>MotionControllerLeft Euclidean Distance</th>\n",
       "      <th>MotionControllerRight Euclidean Distance</th>\n",
       "      <th>RightElbow Euclidean Distance</th>\n",
       "      <th>RightShoulder Euclidean Distance</th>\n",
       "    </tr>\n",
       "  </thead>\n",
       "  <tbody>\n",
       "    <tr>\n",
       "      <th>0</th>\n",
       "      <td>Add Beef</td>\n",
       "      <td>622.361354</td>\n",
       "      <td>913.858250</td>\n",
       "      <td>897.584316</td>\n",
       "      <td>861.005474</td>\n",
       "      <td>1094.207329</td>\n",
       "      <td>2876.070620</td>\n",
       "      <td>2091.721524</td>\n",
       "      <td>1337.305106</td>\n",
       "    </tr>\n",
       "    <tr>\n",
       "      <th>1</th>\n",
       "      <td>Add Carrot</td>\n",
       "      <td>633.083421</td>\n",
       "      <td>864.404404</td>\n",
       "      <td>1108.762554</td>\n",
       "      <td>944.134931</td>\n",
       "      <td>1396.461774</td>\n",
       "      <td>2195.595060</td>\n",
       "      <td>1688.188262</td>\n",
       "      <td>1161.736568</td>\n",
       "    </tr>\n",
       "    <tr>\n",
       "      <th>2</th>\n",
       "      <td>Add Onion</td>\n",
       "      <td>404.452261</td>\n",
       "      <td>580.830082</td>\n",
       "      <td>682.347716</td>\n",
       "      <td>607.799572</td>\n",
       "      <td>780.664228</td>\n",
       "      <td>2124.212879</td>\n",
       "      <td>1571.414895</td>\n",
       "      <td>975.479012</td>\n",
       "    </tr>\n",
       "    <tr>\n",
       "      <th>3</th>\n",
       "      <td>Add Potato</td>\n",
       "      <td>388.566182</td>\n",
       "      <td>456.026519</td>\n",
       "      <td>412.357227</td>\n",
       "      <td>422.120974</td>\n",
       "      <td>502.651304</td>\n",
       "      <td>1770.723087</td>\n",
       "      <td>1367.884129</td>\n",
       "      <td>884.688168</td>\n",
       "    </tr>\n",
       "    <tr>\n",
       "      <th>4</th>\n",
       "      <td>Add Salt</td>\n",
       "      <td>120.488382</td>\n",
       "      <td>168.886637</td>\n",
       "      <td>169.222673</td>\n",
       "      <td>178.769354</td>\n",
       "      <td>194.485636</td>\n",
       "      <td>508.808892</td>\n",
       "      <td>428.516661</td>\n",
       "      <td>286.554726</td>\n",
       "    </tr>\n",
       "    <tr>\n",
       "      <th>5</th>\n",
       "      <td>Add Tomtato</td>\n",
       "      <td>293.258610</td>\n",
       "      <td>433.363123</td>\n",
       "      <td>383.535520</td>\n",
       "      <td>430.247761</td>\n",
       "      <td>392.821028</td>\n",
       "      <td>1663.088502</td>\n",
       "      <td>1257.335743</td>\n",
       "      <td>759.945687</td>\n",
       "    </tr>\n",
       "    <tr>\n",
       "      <th>6</th>\n",
       "      <td>Add pepper</td>\n",
       "      <td>90.454873</td>\n",
       "      <td>156.123380</td>\n",
       "      <td>205.231786</td>\n",
       "      <td>173.129492</td>\n",
       "      <td>252.739775</td>\n",
       "      <td>359.151934</td>\n",
       "      <td>350.341057</td>\n",
       "      <td>229.373761</td>\n",
       "    </tr>\n",
       "    <tr>\n",
       "      <th>7</th>\n",
       "      <td>Post last step</td>\n",
       "      <td>396.013947</td>\n",
       "      <td>580.451088</td>\n",
       "      <td>542.861822</td>\n",
       "      <td>566.972775</td>\n",
       "      <td>659.783533</td>\n",
       "      <td>1409.918370</td>\n",
       "      <td>1151.531206</td>\n",
       "      <td>746.667233</td>\n",
       "    </tr>\n",
       "    <tr>\n",
       "      <th>8</th>\n",
       "      <td>Pour Broth</td>\n",
       "      <td>732.140043</td>\n",
       "      <td>980.022300</td>\n",
       "      <td>1464.425195</td>\n",
       "      <td>969.269822</td>\n",
       "      <td>1872.468440</td>\n",
       "      <td>1660.834937</td>\n",
       "      <td>1544.003585</td>\n",
       "      <td>934.779583</td>\n",
       "    </tr>\n",
       "    <tr>\n",
       "      <th>9</th>\n",
       "      <td>Stir Stew</td>\n",
       "      <td>269.037618</td>\n",
       "      <td>340.105610</td>\n",
       "      <td>408.277806</td>\n",
       "      <td>400.894975</td>\n",
       "      <td>433.449079</td>\n",
       "      <td>1172.372506</td>\n",
       "      <td>872.023893</td>\n",
       "      <td>566.363967</td>\n",
       "    </tr>\n",
       "  </tbody>\n",
       "</table>\n",
       "</div>"
      ],
      "text/plain": [
       "Tracker            Step  Chest Euclidean Distance  \\\n",
       "0              Add Beef                622.361354   \n",
       "1            Add Carrot                633.083421   \n",
       "2             Add Onion                404.452261   \n",
       "3            Add Potato                388.566182   \n",
       "4              Add Salt                120.488382   \n",
       "5           Add Tomtato                293.258610   \n",
       "6            Add pepper                 90.454873   \n",
       "7        Post last step                396.013947   \n",
       "8            Pour Broth                732.140043   \n",
       "9             Stir Stew                269.037618   \n",
       "\n",
       "Tracker  HeadCamera Euclidean Distance  LeftElbow Euclidean Distance  \\\n",
       "0                           913.858250                    897.584316   \n",
       "1                           864.404404                   1108.762554   \n",
       "2                           580.830082                    682.347716   \n",
       "3                           456.026519                    412.357227   \n",
       "4                           168.886637                    169.222673   \n",
       "5                           433.363123                    383.535520   \n",
       "6                           156.123380                    205.231786   \n",
       "7                           580.451088                    542.861822   \n",
       "8                           980.022300                   1464.425195   \n",
       "9                           340.105610                    408.277806   \n",
       "\n",
       "Tracker  LeftShoulder Euclidean Distance  \\\n",
       "0                             861.005474   \n",
       "1                             944.134931   \n",
       "2                             607.799572   \n",
       "3                             422.120974   \n",
       "4                             178.769354   \n",
       "5                             430.247761   \n",
       "6                             173.129492   \n",
       "7                             566.972775   \n",
       "8                             969.269822   \n",
       "9                             400.894975   \n",
       "\n",
       "Tracker  MotionControllerLeft Euclidean Distance  \\\n",
       "0                                    1094.207329   \n",
       "1                                    1396.461774   \n",
       "2                                     780.664228   \n",
       "3                                     502.651304   \n",
       "4                                     194.485636   \n",
       "5                                     392.821028   \n",
       "6                                     252.739775   \n",
       "7                                     659.783533   \n",
       "8                                    1872.468440   \n",
       "9                                     433.449079   \n",
       "\n",
       "Tracker  MotionControllerRight Euclidean Distance  \\\n",
       "0                                     2876.070620   \n",
       "1                                     2195.595060   \n",
       "2                                     2124.212879   \n",
       "3                                     1770.723087   \n",
       "4                                      508.808892   \n",
       "5                                     1663.088502   \n",
       "6                                      359.151934   \n",
       "7                                     1409.918370   \n",
       "8                                     1660.834937   \n",
       "9                                     1172.372506   \n",
       "\n",
       "Tracker  RightElbow Euclidean Distance  RightShoulder Euclidean Distance  \n",
       "0                          2091.721524                       1337.305106  \n",
       "1                          1688.188262                       1161.736568  \n",
       "2                          1571.414895                        975.479012  \n",
       "3                          1367.884129                        884.688168  \n",
       "4                           428.516661                        286.554726  \n",
       "5                          1257.335743                        759.945687  \n",
       "6                           350.341057                        229.373761  \n",
       "7                          1151.531206                        746.667233  \n",
       "8                          1544.003585                        934.779583  \n",
       "9                           872.023893                        566.363967  "
      ]
     },
     "execution_count": 18,
     "metadata": {},
     "output_type": "execute_result"
    }
   ],
   "source": [
    "distance_columns = [\n",
    "    'Chest Euclidean Distance', 'LeftShoulder Euclidean Distance',\n",
    "    'RightShoulder Euclidean Distance', 'LeftElbow Euclidean Distance',\n",
    "    'RightElbow Euclidean Distance', 'MotionControllerLeft Euclidean Distance',\n",
    "    'MotionControllerRight Euclidean Distance', 'HeadCamera Euclidean Distance'\n",
    "]\n",
    "\n",
    "# Get the indices of the rows where 'Completed Step' is not NaN\n",
    "df = df.reset_index(drop=True)\n",
    "completed_indices = df.index[df['Completed Step'].notna()].tolist()\n",
    "\n",
    "cumulative_distances_trackers = {tracker: {} for tracker in distance_columns}\n",
    "\n",
    "\n",
    "for tracker in distance_columns:\n",
    "    for i in range(len(completed_indices)):\n",
    "        start_index = 0 if i == 0 else completed_indices[i - 1] + 1\n",
    "        end_index = completed_indices[i]\n",
    "        \n",
    "        # Get the step name\n",
    "        step_name = df.loc[end_index, 'Completed Step']\n",
    "        \n",
    "        # Calculate the cumulative distance for the given range\n",
    "        cumulative_distance = df.loc[start_index:end_index, tracker].sum()\n",
    "        \n",
    "        # Accumulate the total distance for each unique step\n",
    "        if step_name in cumulative_distances_trackers[tracker]:\n",
    "            cumulative_distances_trackers[tracker][step_name] += cumulative_distance\n",
    "        else:\n",
    "            cumulative_distances_trackers[tracker][step_name] = cumulative_distance\n",
    "\n",
    "    # Distance for the \"Post last step\"\n",
    "    last_step_index = completed_indices[-1] + 1\n",
    "    post_last_step_distance = df.loc[last_step_index:, tracker].sum()\n",
    "    cumulative_distances_trackers[tracker][\"Post last step\"] = post_last_step_distance\n",
    "\n",
    "# Create a combined DataFrame that includes all trackers in one table\n",
    "combined_data = []\n",
    "\n",
    "# Iterate through each tracker and their respective data to combine it into one list\n",
    "for tracker, distances in cumulative_distances_trackers.items():\n",
    "    for step, total_distance in distances.items():\n",
    "        combined_data.append({\n",
    "            'Step': step,\n",
    "            'Tracker': tracker,\n",
    "            'Total Distance': total_distance\n",
    "        })\n",
    "\n",
    "combined_df = pd.DataFrame(combined_data)\n",
    "\n",
    "combined_pivot_df = combined_df.pivot(index='Step', columns='Tracker', values='Total Distance').reset_index()\n",
    "combined_pivot_df"
   ]
  },
  {
   "cell_type": "code",
   "execution_count": 19,
   "id": "c4319131-2273-4507-a03a-6d9218f0f6d2",
   "metadata": {},
   "outputs": [
    {
     "data": {
      "text/plain": [
       "Tracker\n",
       "Chest Euclidean Distance                     3949.856691\n",
       "LeftShoulder Euclidean Distance              5554.345131\n",
       "RightShoulder Euclidean Distance             7882.893811\n",
       "LeftElbow Euclidean Distance                 6274.606614\n",
       "RightElbow Euclidean Distance               12322.960956\n",
       "MotionControllerLeft Euclidean Distance      7579.732127\n",
       "MotionControllerRight Euclidean Distance    15740.776787\n",
       "HeadCamera Euclidean Distance                5474.071393\n",
       "dtype: float64"
      ]
     },
     "execution_count": 19,
     "metadata": {},
     "output_type": "execute_result"
    }
   ],
   "source": [
    "total_sum = combined_pivot_df[distance_columns].sum()\n",
    "total_sum"
   ]
  }
 ],
 "metadata": {
  "kernelspec": {
   "display_name": "Python 3 (ipykernel)",
   "language": "python",
   "name": "python3"
  },
  "language_info": {
   "codemirror_mode": {
    "name": "ipython",
    "version": 3
   },
   "file_extension": ".py",
   "mimetype": "text/x-python",
   "name": "python",
   "nbconvert_exporter": "python",
   "pygments_lexer": "ipython3",
   "version": "3.11.7"
  }
 },
 "nbformat": 4,
 "nbformat_minor": 5
}
