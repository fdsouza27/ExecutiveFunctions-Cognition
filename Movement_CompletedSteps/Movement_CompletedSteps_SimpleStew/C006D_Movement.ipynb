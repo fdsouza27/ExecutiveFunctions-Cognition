{
 "cells": [
  {
   "cell_type": "code",
   "execution_count": 16,
   "id": "6aa535bd-1e8d-4699-b064-fd119724107d",
   "metadata": {},
   "outputs": [],
   "source": [
    "import os\n",
    "import pandas as pd\n",
    "import numpy as np"
   ]
  },
  {
   "cell_type": "code",
   "execution_count": 17,
   "id": "70bfdcdd-752d-41d4-bfe0-7e4cc2969e6a",
   "metadata": {},
   "outputs": [],
   "source": [
    "main_dir = 'C:/Users/FANNY MARIA D SOUZA/Capstone_Movement/VR Data/C006 D/'\n",
    "file_name = 'C006_SimpleStew_MovementData.csv'\n",
    "\n",
    "file_path = os.path.join(main_dir, file_name)\n",
    "\n",
    "df1 = pd.read_csv(file_path)"
   ]
  },
  {
   "cell_type": "code",
   "execution_count": 18,
   "id": "578034c7-b0f6-43ad-8f9d-6840ae9b3b58",
   "metadata": {},
   "outputs": [
    {
     "data": {
      "text/plain": [
       "(16516, 58)"
      ]
     },
     "execution_count": 18,
     "metadata": {},
     "output_type": "execute_result"
    }
   ],
   "source": [
    "df1.shape"
   ]
  },
  {
   "cell_type": "code",
   "execution_count": 19,
   "id": "2cca4522-06f9-4d8e-a6a8-b65650cebef5",
   "metadata": {},
   "outputs": [
    {
     "data": {
      "text/plain": [
       "Index(['Times', 'Chest Tracker_LOCATION_X', 'Chest Tracker_LOCATION_Y',\n",
       "       'Chest Tracker_LOCATION_Z', '_ROTATION_W', '_ROTATION_X', '_ROTATION_Y',\n",
       "       '_ROTATION_Z', 'LeftShoulder Tracker_LOCATION_X',\n",
       "       'LeftShoulder Tracker_LOCATION_Y', 'LeftShoulder Tracker_LOCATION_Z',\n",
       "       '_ROTATION_W.1', '_ROTATION_X.1', '_ROTATION_Y.1', '_ROTATION_Z.1',\n",
       "       'RightShoulder Tracker_LOCATION_X', 'RightShoulder Tracker_LOCATION_Y',\n",
       "       'RightShoulder Tracker_LOCATION_Z', '_ROTATION_W.2', '_ROTATION_X.2',\n",
       "       '_ROTATION_Y.2', '_ROTATION_Z.2', 'LeftElbow Tracker_LOCATION_X',\n",
       "       'LeftElbow Tracker_LOCATION_Y', 'LeftElbow Tracker_LOCATION_Z',\n",
       "       '_ROTATION_W.3', '_ROTATION_X.3', '_ROTATION_Y.3', '_ROTATION_Z.3',\n",
       "       'RightElbow Tracker_LOCATION_X', 'RightElbow Tracker_LOCATION_Y',\n",
       "       'RightElbow Tracker_LOCATION_Z', '_ROTATION_W.4', '_ROTATION_X.4',\n",
       "       '_ROTATION_Y.4', '_ROTATION_Z.4', 'MotionControllerLeft_LOCATION_X',\n",
       "       'MotionControllerLeft_LOCATION_Y', 'MotionControllerLeft_LOCATION_Z',\n",
       "       '_ROTATION_W.5', '_ROTATION_X.5', '_ROTATION_Y.5', '_ROTATION_Z.5',\n",
       "       'MotionControllerRight_LOCATION_X', 'MotionControllerRight_LOCATION_Y',\n",
       "       'MotionControllerRight_LOCATION_Z', '_ROTATION_W.6', '_ROTATION_X.6',\n",
       "       '_ROTATION_Y.6', '_ROTATION_Z.6', 'HeadCamera_LOCATION_X',\n",
       "       'HeadCamera_LOCATION_Y', 'HeadCamera_LOCATION_Z', '_ROTATION_W.7',\n",
       "       '_ROTATION_X.7', '_ROTATION_Y.7', '_ROTATION_Z.7', 'Unnamed: 57'],\n",
       "      dtype='object')"
      ]
     },
     "execution_count": 19,
     "metadata": {},
     "output_type": "execute_result"
    }
   ],
   "source": [
    "df1.columns"
   ]
  },
  {
   "cell_type": "code",
   "execution_count": 20,
   "id": "eb95d8a3-03cb-43b1-aa2e-1b590513631b",
   "metadata": {},
   "outputs": [],
   "source": [
    "df1 = df1.drop(columns=['Unnamed: 57'])"
   ]
  },
  {
   "cell_type": "markdown",
   "id": "8c325590-ef46-4c50-a4e8-7ba654cd32fa",
   "metadata": {},
   "source": [
    "#### 1) Euclidean Distance - Chest Tracker "
   ]
  },
  {
   "cell_type": "markdown",
   "id": "9b2a3f97-129a-4444-8f5c-71723792542d",
   "metadata": {},
   "source": [
    "##### Note - Euclidean Distance helps in computing distance between position coordinates. diff() function in pandas is used to compute the difference between the values of a DataFrame or Series across a specified axis (usually rows). By default, it calculates the difference between the current row and the previous row."
   ]
  },
  {
   "cell_type": "code",
   "execution_count": 21,
   "id": "3bb1f64e-7367-4caf-90c0-14d64f15abcf",
   "metadata": {},
   "outputs": [],
   "source": [
    "# Calculate Euclidean distance between consecutive time frames for the Chest Tracker\n",
    "df1['Chest Euclidean Distance'] = np.sqrt(\n",
    "    (df1['Chest Tracker_LOCATION_X'].diff() ** 2) + \n",
    "    (df1['Chest Tracker_LOCATION_Y'].diff() ** 2) + \n",
    "    (df1['Chest Tracker_LOCATION_Z'].diff() ** 2)\n",
    ")\n"
   ]
  },
  {
   "cell_type": "markdown",
   "id": "ea6a14ee-fcbf-4be1-924b-4f41fad22340",
   "metadata": {},
   "source": [
    "#### 2) Left Shoulder Tracker"
   ]
  },
  {
   "cell_type": "code",
   "execution_count": 22,
   "id": "3c3fa19d-0941-49da-b404-c293836b870e",
   "metadata": {},
   "outputs": [],
   "source": [
    "df1['LeftShoulder Euclidean Distance'] = np.sqrt(\n",
    "    (df1['LeftShoulder Tracker_LOCATION_X'].diff() ** 2) + \n",
    "    (df1['LeftShoulder Tracker_LOCATION_Y'].diff() ** 2) + \n",
    "    (df1['LeftShoulder Tracker_LOCATION_Z'].diff() ** 2)\n",
    ")"
   ]
  },
  {
   "cell_type": "markdown",
   "id": "fa5f0aef-8451-49ba-834d-036bdec7d482",
   "metadata": {},
   "source": [
    "#### 3) Right Shoulder Tracker"
   ]
  },
  {
   "cell_type": "code",
   "execution_count": 23,
   "id": "0064abe4-3a04-4ad1-9ce6-05ce4e6306c2",
   "metadata": {},
   "outputs": [],
   "source": [
    "df1['RightShoulder Euclidean Distance'] = np.sqrt(\n",
    "    (df1['RightShoulder Tracker_LOCATION_X'].diff() ** 2) + \n",
    "    (df1['RightShoulder Tracker_LOCATION_Y'].diff() ** 2) + \n",
    "    (df1['RightShoulder Tracker_LOCATION_Z'].diff() ** 2)\n",
    ")"
   ]
  },
  {
   "cell_type": "markdown",
   "id": "834ac4fd-4b13-456c-91f9-0848e63ec159",
   "metadata": {},
   "source": [
    "#### 4) Left Elbow Tracker"
   ]
  },
  {
   "cell_type": "code",
   "execution_count": 24,
   "id": "40966776-95e1-4f2e-a42c-53d55beeb459",
   "metadata": {},
   "outputs": [],
   "source": [
    "df1['LeftElbow Euclidean Distance'] = np.sqrt(\n",
    "    (df1['LeftElbow Tracker_LOCATION_X'].diff() ** 2) + \n",
    "    (df1['LeftElbow Tracker_LOCATION_Y'].diff() ** 2) + \n",
    "    (df1['LeftElbow Tracker_LOCATION_Z'].diff() ** 2)\n",
    ")\n"
   ]
  },
  {
   "cell_type": "markdown",
   "id": "430ca063-f2df-4ddb-b55c-f8f596a30d96",
   "metadata": {},
   "source": [
    "#### 5) Right Elbow Tracker"
   ]
  },
  {
   "cell_type": "code",
   "execution_count": 25,
   "id": "01ceec15-0554-4f4f-a8ea-4496eccd0e99",
   "metadata": {},
   "outputs": [],
   "source": [
    "df1['RightElbow Euclidean Distance'] = np.sqrt(\n",
    "    (df1['RightElbow Tracker_LOCATION_X'].diff() ** 2) + \n",
    "    (df1['RightElbow Tracker_LOCATION_Y'].diff() ** 2) + \n",
    "    (df1['RightElbow Tracker_LOCATION_Z'].diff() ** 2)\n",
    ")\n"
   ]
  },
  {
   "cell_type": "markdown",
   "id": "4f548bd0-374e-4ddf-9194-008e31a96e36",
   "metadata": {},
   "source": [
    "#### 6) Motion Controller Left"
   ]
  },
  {
   "cell_type": "code",
   "execution_count": 26,
   "id": "809850ae-bccf-4b12-bfb4-a06c45c6e833",
   "metadata": {},
   "outputs": [],
   "source": [
    "df1['MotionControllerLeft Euclidean Distance'] = np.sqrt(\n",
    "    (df1['MotionControllerLeft_LOCATION_X'].diff() ** 2) + \n",
    "    (df1['MotionControllerLeft_LOCATION_Y'].diff() ** 2) + \n",
    "    (df1['MotionControllerLeft_LOCATION_Z'].diff() ** 2)\n",
    ")"
   ]
  },
  {
   "cell_type": "markdown",
   "id": "ed230905-940a-466a-8247-591a2b9ffb96",
   "metadata": {},
   "source": [
    "#### 7) Motion Controller Right"
   ]
  },
  {
   "cell_type": "code",
   "execution_count": 27,
   "id": "e06558f0-3027-4e0a-bb98-5f4360a6beb6",
   "metadata": {},
   "outputs": [],
   "source": [
    "df1['MotionControllerRight Euclidean Distance'] = np.sqrt(\n",
    "    (df1['MotionControllerRight_LOCATION_X'].diff() ** 2) + \n",
    "    (df1['MotionControllerRight_LOCATION_Y'].diff() ** 2) + \n",
    "    (df1['MotionControllerRight_LOCATION_Z'].diff() ** 2)\n",
    ")"
   ]
  },
  {
   "cell_type": "markdown",
   "id": "eb5ea26d-ea76-4f1d-adcc-98f98ff408b9",
   "metadata": {},
   "source": [
    "#### 8) Head Camera"
   ]
  },
  {
   "cell_type": "code",
   "execution_count": 28,
   "id": "e258edfe-dd7d-44f8-a41a-754d54efd2b8",
   "metadata": {},
   "outputs": [],
   "source": [
    "df1['HeadCamera Euclidean Distance'] = np.sqrt(\n",
    "    (df1['HeadCamera_LOCATION_X'].diff() ** 2) + \n",
    "    (df1['HeadCamera_LOCATION_Y'].diff() ** 2) + \n",
    "    (df1['HeadCamera_LOCATION_Z'].diff() ** 2)\n",
    ")"
   ]
  },
  {
   "cell_type": "code",
   "execution_count": 29,
   "id": "dd5c0ae1-0345-4b47-a232-23a5e376f1d9",
   "metadata": {},
   "outputs": [
    {
     "data": {
      "text/html": [
       "<div>\n",
       "<style scoped>\n",
       "    .dataframe tbody tr th:only-of-type {\n",
       "        vertical-align: middle;\n",
       "    }\n",
       "\n",
       "    .dataframe tbody tr th {\n",
       "        vertical-align: top;\n",
       "    }\n",
       "\n",
       "    .dataframe thead th {\n",
       "        text-align: right;\n",
       "    }\n",
       "</style>\n",
       "<table border=\"1\" class=\"dataframe\">\n",
       "  <thead>\n",
       "    <tr style=\"text-align: right;\">\n",
       "      <th></th>\n",
       "      <th>Tracker</th>\n",
       "      <th>Total Distance</th>\n",
       "    </tr>\n",
       "  </thead>\n",
       "  <tbody>\n",
       "    <tr>\n",
       "      <th>0</th>\n",
       "      <td>Chest</td>\n",
       "      <td>1333.791569</td>\n",
       "    </tr>\n",
       "    <tr>\n",
       "      <th>1</th>\n",
       "      <td>LeftShoulder</td>\n",
       "      <td>2171.609415</td>\n",
       "    </tr>\n",
       "    <tr>\n",
       "      <th>2</th>\n",
       "      <td>RightShoulder</td>\n",
       "      <td>4950.245383</td>\n",
       "    </tr>\n",
       "    <tr>\n",
       "      <th>3</th>\n",
       "      <td>LeftElbow</td>\n",
       "      <td>1984.150383</td>\n",
       "    </tr>\n",
       "    <tr>\n",
       "      <th>4</th>\n",
       "      <td>RightElbow</td>\n",
       "      <td>6357.739703</td>\n",
       "    </tr>\n",
       "    <tr>\n",
       "      <th>5</th>\n",
       "      <td>MotionControllerLeft</td>\n",
       "      <td>3695.805905</td>\n",
       "    </tr>\n",
       "    <tr>\n",
       "      <th>6</th>\n",
       "      <td>MotionControllerRight</td>\n",
       "      <td>10100.423327</td>\n",
       "    </tr>\n",
       "    <tr>\n",
       "      <th>7</th>\n",
       "      <td>HeadCamera</td>\n",
       "      <td>3044.388844</td>\n",
       "    </tr>\n",
       "  </tbody>\n",
       "</table>\n",
       "</div>"
      ],
      "text/plain": [
       "                 Tracker  Total Distance\n",
       "0                  Chest     1333.791569\n",
       "1           LeftShoulder     2171.609415\n",
       "2          RightShoulder     4950.245383\n",
       "3              LeftElbow     1984.150383\n",
       "4             RightElbow     6357.739703\n",
       "5   MotionControllerLeft     3695.805905\n",
       "6  MotionControllerRight    10100.423327\n",
       "7             HeadCamera     3044.388844"
      ]
     },
     "execution_count": 29,
     "metadata": {},
     "output_type": "execute_result"
    }
   ],
   "source": [
    "total_distances = {\n",
    "    'Tracker': ['Chest', 'LeftShoulder', 'RightShoulder', 'LeftElbow', 'RightElbow', \n",
    "                'MotionControllerLeft', 'MotionControllerRight', 'HeadCamera'],\n",
    "    'Total Distance': [\n",
    "        df1['Chest Euclidean Distance'].sum(),\n",
    "        df1['LeftShoulder Euclidean Distance'].sum(),\n",
    "        df1['RightShoulder Euclidean Distance'].sum(),\n",
    "        df1['LeftElbow Euclidean Distance'].sum(),\n",
    "        df1['RightElbow Euclidean Distance'].sum(),\n",
    "        df1['MotionControllerLeft Euclidean Distance'].sum(),\n",
    "        df1['MotionControllerRight Euclidean Distance'].sum(),\n",
    "        df1['HeadCamera Euclidean Distance'].sum()\n",
    "    ]\n",
    "}\n",
    "\n",
    "# Create a new DataFrame from the dictionary\n",
    "total_distances_df = pd.DataFrame(total_distances)\n",
    "\n",
    "# Display the new dataframe\n",
    "total_distances_df"
   ]
  },
  {
   "cell_type": "code",
   "execution_count": 30,
   "id": "dd21db9e-689f-4cdd-a579-aa48f07cbe89",
   "metadata": {},
   "outputs": [],
   "source": [
    "main_dir = 'C:/Users/FANNY MARIA D SOUZA/Capstone_Movement/VR Data/C006 D/'\n",
    "file_name = 'C006_SimpleStew_CompletedStepsData.csv'\n",
    "\n",
    "file_path = os.path.join(main_dir, file_name)\n",
    "\n",
    "df2 = pd.read_csv(file_path)"
   ]
  },
  {
   "cell_type": "code",
   "execution_count": 31,
   "id": "5c900722-0bf4-4ce2-a906-6accbb1f1a07",
   "metadata": {},
   "outputs": [],
   "source": [
    "df1.rename(columns={'Times': 'Session Time'}, inplace=True)\n",
    "df = pd.merge(df1, df2, on='Session Time', how='outer')"
   ]
  },
  {
   "cell_type": "code",
   "execution_count": 32,
   "id": "64b4ef92-2905-4fff-9a79-14d8b2b438cb",
   "metadata": {},
   "outputs": [],
   "source": [
    "df = df.sort_values(by='Session Time')"
   ]
  },
  {
   "cell_type": "code",
   "execution_count": 33,
   "id": "b15cbbef-6762-492a-bfbc-2ce09d08cd58",
   "metadata": {},
   "outputs": [
    {
     "data": {
      "text/html": [
       "<div>\n",
       "<style scoped>\n",
       "    .dataframe tbody tr th:only-of-type {\n",
       "        vertical-align: middle;\n",
       "    }\n",
       "\n",
       "    .dataframe tbody tr th {\n",
       "        vertical-align: top;\n",
       "    }\n",
       "\n",
       "    .dataframe thead th {\n",
       "        text-align: right;\n",
       "    }\n",
       "</style>\n",
       "<table border=\"1\" class=\"dataframe\">\n",
       "  <thead>\n",
       "    <tr style=\"text-align: right;\">\n",
       "      <th>Tracker</th>\n",
       "      <th>Step</th>\n",
       "      <th>Chest Euclidean Distance</th>\n",
       "      <th>HeadCamera Euclidean Distance</th>\n",
       "      <th>LeftElbow Euclidean Distance</th>\n",
       "      <th>LeftShoulder Euclidean Distance</th>\n",
       "      <th>MotionControllerLeft Euclidean Distance</th>\n",
       "      <th>MotionControllerRight Euclidean Distance</th>\n",
       "      <th>RightElbow Euclidean Distance</th>\n",
       "      <th>RightShoulder Euclidean Distance</th>\n",
       "    </tr>\n",
       "  </thead>\n",
       "  <tbody>\n",
       "    <tr>\n",
       "      <th>0</th>\n",
       "      <td>Add Beef</td>\n",
       "      <td>258.659127</td>\n",
       "      <td>527.514825</td>\n",
       "      <td>377.353139</td>\n",
       "      <td>309.910282</td>\n",
       "      <td>500.435944</td>\n",
       "      <td>1480.011144</td>\n",
       "      <td>1066.727245</td>\n",
       "      <td>823.563443</td>\n",
       "    </tr>\n",
       "    <tr>\n",
       "      <th>1</th>\n",
       "      <td>Add Carrot</td>\n",
       "      <td>242.227829</td>\n",
       "      <td>497.650444</td>\n",
       "      <td>357.158209</td>\n",
       "      <td>437.660008</td>\n",
       "      <td>1105.580046</td>\n",
       "      <td>2196.767365</td>\n",
       "      <td>1636.134402</td>\n",
       "      <td>1063.917884</td>\n",
       "    </tr>\n",
       "    <tr>\n",
       "      <th>2</th>\n",
       "      <td>Add Onion</td>\n",
       "      <td>154.626324</td>\n",
       "      <td>345.081987</td>\n",
       "      <td>228.962282</td>\n",
       "      <td>192.321548</td>\n",
       "      <td>310.071849</td>\n",
       "      <td>1376.688263</td>\n",
       "      <td>246.980057</td>\n",
       "      <td>541.138196</td>\n",
       "    </tr>\n",
       "    <tr>\n",
       "      <th>3</th>\n",
       "      <td>Add Potato</td>\n",
       "      <td>134.904519</td>\n",
       "      <td>274.268921</td>\n",
       "      <td>244.961169</td>\n",
       "      <td>180.055017</td>\n",
       "      <td>291.289175</td>\n",
       "      <td>1000.877485</td>\n",
       "      <td>734.547375</td>\n",
       "      <td>536.871344</td>\n",
       "    </tr>\n",
       "    <tr>\n",
       "      <th>4</th>\n",
       "      <td>Add Salt</td>\n",
       "      <td>0.000000</td>\n",
       "      <td>156.185786</td>\n",
       "      <td>0.000000</td>\n",
       "      <td>127.823794</td>\n",
       "      <td>104.812741</td>\n",
       "      <td>473.158458</td>\n",
       "      <td>342.138461</td>\n",
       "      <td>230.650330</td>\n",
       "    </tr>\n",
       "    <tr>\n",
       "      <th>5</th>\n",
       "      <td>Add Tomtato</td>\n",
       "      <td>137.554449</td>\n",
       "      <td>292.522962</td>\n",
       "      <td>297.478422</td>\n",
       "      <td>222.144245</td>\n",
       "      <td>357.139249</td>\n",
       "      <td>1144.092457</td>\n",
       "      <td>582.568224</td>\n",
       "      <td>502.170734</td>\n",
       "    </tr>\n",
       "    <tr>\n",
       "      <th>6</th>\n",
       "      <td>Add pepper</td>\n",
       "      <td>0.000000</td>\n",
       "      <td>69.480563</td>\n",
       "      <td>0.000000</td>\n",
       "      <td>43.714668</td>\n",
       "      <td>41.697238</td>\n",
       "      <td>235.268318</td>\n",
       "      <td>211.654555</td>\n",
       "      <td>134.980963</td>\n",
       "    </tr>\n",
       "    <tr>\n",
       "      <th>7</th>\n",
       "      <td>Post last step</td>\n",
       "      <td>71.539800</td>\n",
       "      <td>282.200295</td>\n",
       "      <td>0.000000</td>\n",
       "      <td>226.986805</td>\n",
       "      <td>281.320368</td>\n",
       "      <td>764.442619</td>\n",
       "      <td>564.716941</td>\n",
       "      <td>386.760207</td>\n",
       "    </tr>\n",
       "    <tr>\n",
       "      <th>8</th>\n",
       "      <td>Pour Broth</td>\n",
       "      <td>292.258129</td>\n",
       "      <td>442.117670</td>\n",
       "      <td>478.237162</td>\n",
       "      <td>381.813594</td>\n",
       "      <td>585.134376</td>\n",
       "      <td>754.859616</td>\n",
       "      <td>519.044154</td>\n",
       "      <td>447.152372</td>\n",
       "    </tr>\n",
       "    <tr>\n",
       "      <th>9</th>\n",
       "      <td>Stir Stew</td>\n",
       "      <td>42.021392</td>\n",
       "      <td>157.365390</td>\n",
       "      <td>0.000000</td>\n",
       "      <td>49.179454</td>\n",
       "      <td>118.324919</td>\n",
       "      <td>674.257603</td>\n",
       "      <td>453.228289</td>\n",
       "      <td>283.039911</td>\n",
       "    </tr>\n",
       "  </tbody>\n",
       "</table>\n",
       "</div>"
      ],
      "text/plain": [
       "Tracker            Step  Chest Euclidean Distance  \\\n",
       "0              Add Beef                258.659127   \n",
       "1            Add Carrot                242.227829   \n",
       "2             Add Onion                154.626324   \n",
       "3            Add Potato                134.904519   \n",
       "4              Add Salt                  0.000000   \n",
       "5           Add Tomtato                137.554449   \n",
       "6            Add pepper                  0.000000   \n",
       "7        Post last step                 71.539800   \n",
       "8            Pour Broth                292.258129   \n",
       "9             Stir Stew                 42.021392   \n",
       "\n",
       "Tracker  HeadCamera Euclidean Distance  LeftElbow Euclidean Distance  \\\n",
       "0                           527.514825                    377.353139   \n",
       "1                           497.650444                    357.158209   \n",
       "2                           345.081987                    228.962282   \n",
       "3                           274.268921                    244.961169   \n",
       "4                           156.185786                      0.000000   \n",
       "5                           292.522962                    297.478422   \n",
       "6                            69.480563                      0.000000   \n",
       "7                           282.200295                      0.000000   \n",
       "8                           442.117670                    478.237162   \n",
       "9                           157.365390                      0.000000   \n",
       "\n",
       "Tracker  LeftShoulder Euclidean Distance  \\\n",
       "0                             309.910282   \n",
       "1                             437.660008   \n",
       "2                             192.321548   \n",
       "3                             180.055017   \n",
       "4                             127.823794   \n",
       "5                             222.144245   \n",
       "6                              43.714668   \n",
       "7                             226.986805   \n",
       "8                             381.813594   \n",
       "9                              49.179454   \n",
       "\n",
       "Tracker  MotionControllerLeft Euclidean Distance  \\\n",
       "0                                     500.435944   \n",
       "1                                    1105.580046   \n",
       "2                                     310.071849   \n",
       "3                                     291.289175   \n",
       "4                                     104.812741   \n",
       "5                                     357.139249   \n",
       "6                                      41.697238   \n",
       "7                                     281.320368   \n",
       "8                                     585.134376   \n",
       "9                                     118.324919   \n",
       "\n",
       "Tracker  MotionControllerRight Euclidean Distance  \\\n",
       "0                                     1480.011144   \n",
       "1                                     2196.767365   \n",
       "2                                     1376.688263   \n",
       "3                                     1000.877485   \n",
       "4                                      473.158458   \n",
       "5                                     1144.092457   \n",
       "6                                      235.268318   \n",
       "7                                      764.442619   \n",
       "8                                      754.859616   \n",
       "9                                      674.257603   \n",
       "\n",
       "Tracker  RightElbow Euclidean Distance  RightShoulder Euclidean Distance  \n",
       "0                          1066.727245                        823.563443  \n",
       "1                          1636.134402                       1063.917884  \n",
       "2                           246.980057                        541.138196  \n",
       "3                           734.547375                        536.871344  \n",
       "4                           342.138461                        230.650330  \n",
       "5                           582.568224                        502.170734  \n",
       "6                           211.654555                        134.980963  \n",
       "7                           564.716941                        386.760207  \n",
       "8                           519.044154                        447.152372  \n",
       "9                           453.228289                        283.039911  "
      ]
     },
     "execution_count": 33,
     "metadata": {},
     "output_type": "execute_result"
    }
   ],
   "source": [
    "distance_columns = [\n",
    "    'Chest Euclidean Distance', 'LeftShoulder Euclidean Distance',\n",
    "    'RightShoulder Euclidean Distance', 'LeftElbow Euclidean Distance',\n",
    "    'RightElbow Euclidean Distance', 'MotionControllerLeft Euclidean Distance',\n",
    "    'MotionControllerRight Euclidean Distance', 'HeadCamera Euclidean Distance'\n",
    "]\n",
    "\n",
    "# Get the indices of the rows where 'Completed Step' is not NaN\n",
    "df = df.reset_index(drop=True)\n",
    "completed_indices = df.index[df['Completed Step'].notna()].tolist()\n",
    "\n",
    "cumulative_distances_trackers = {tracker: {} for tracker in distance_columns}\n",
    "\n",
    "\n",
    "for tracker in distance_columns:\n",
    "    for i in range(len(completed_indices)):\n",
    "        start_index = 0 if i == 0 else completed_indices[i - 1] + 1\n",
    "        end_index = completed_indices[i]\n",
    "        \n",
    "        # Get the step name\n",
    "        step_name = df.loc[end_index, 'Completed Step']\n",
    "        \n",
    "        # Calculate the cumulative distance for the given range\n",
    "        cumulative_distance = df.loc[start_index:end_index, tracker].sum()\n",
    "        \n",
    "        # Accumulate the total distance for each unique step\n",
    "        if step_name in cumulative_distances_trackers[tracker]:\n",
    "            cumulative_distances_trackers[tracker][step_name] += cumulative_distance\n",
    "        else:\n",
    "            cumulative_distances_trackers[tracker][step_name] = cumulative_distance\n",
    "\n",
    "    # Distance for the \"Post last step\"\n",
    "    last_step_index = completed_indices[-1] + 1\n",
    "    post_last_step_distance = df.loc[last_step_index:, tracker].sum()\n",
    "    cumulative_distances_trackers[tracker][\"Post last step\"] = post_last_step_distance\n",
    "\n",
    "# Create a combined DataFrame that includes all trackers in one table\n",
    "combined_data = []\n",
    "\n",
    "# Iterate through each tracker and their respective data to combine it into one list\n",
    "for tracker, distances in cumulative_distances_trackers.items():\n",
    "    for step, total_distance in distances.items():\n",
    "        combined_data.append({\n",
    "            'Step': step,\n",
    "            'Tracker': tracker,\n",
    "            'Total Distance': total_distance\n",
    "        })\n",
    "\n",
    "combined_df = pd.DataFrame(combined_data)\n",
    "\n",
    "combined_pivot_df = combined_df.pivot(index='Step', columns='Tracker', values='Total Distance').reset_index()\n",
    "combined_pivot_df"
   ]
  },
  {
   "cell_type": "code",
   "execution_count": 34,
   "id": "61d0be22-0194-4319-8dd0-009d3295e780",
   "metadata": {},
   "outputs": [
    {
     "data": {
      "text/plain": [
       "Tracker\n",
       "Chest Euclidean Distance                     1333.791569\n",
       "LeftShoulder Euclidean Distance              2171.609415\n",
       "RightShoulder Euclidean Distance             4950.245383\n",
       "LeftElbow Euclidean Distance                 1984.150383\n",
       "RightElbow Euclidean Distance                6357.739703\n",
       "MotionControllerLeft Euclidean Distance      3695.805905\n",
       "MotionControllerRight Euclidean Distance    10100.423327\n",
       "HeadCamera Euclidean Distance                3044.388844\n",
       "dtype: float64"
      ]
     },
     "execution_count": 34,
     "metadata": {},
     "output_type": "execute_result"
    }
   ],
   "source": [
    "total_sum = combined_pivot_df[distance_columns].sum()\n",
    "total_sum"
   ]
  }
 ],
 "metadata": {
  "kernelspec": {
   "display_name": "Python 3 (ipykernel)",
   "language": "python",
   "name": "python3"
  },
  "language_info": {
   "codemirror_mode": {
    "name": "ipython",
    "version": 3
   },
   "file_extension": ".py",
   "mimetype": "text/x-python",
   "name": "python",
   "nbconvert_exporter": "python",
   "pygments_lexer": "ipython3",
   "version": "3.11.7"
  }
 },
 "nbformat": 4,
 "nbformat_minor": 5
}
