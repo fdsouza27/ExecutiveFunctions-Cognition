{
 "cells": [
  {
   "cell_type": "code",
   "execution_count": 1,
   "id": "6aa535bd-1e8d-4699-b064-fd119724107d",
   "metadata": {},
   "outputs": [],
   "source": [
    "import os\n",
    "import pandas as pd\n",
    "import numpy as np"
   ]
  },
  {
   "cell_type": "code",
   "execution_count": 2,
   "id": "70bfdcdd-752d-41d4-bfe0-7e4cc2969e6a",
   "metadata": {},
   "outputs": [],
   "source": [
    "main_dir = 'C:/Users/FANNY MARIA D SOUZA/Capstone_Movement/VR Data/C019 C/'\n",
    "file_name = 'C019_SimplePie_MovementData.csv'\n",
    "\n",
    "file_path = os.path.join(main_dir, file_name)\n",
    "\n",
    "df1 = pd.read_csv(file_path)"
   ]
  },
  {
   "cell_type": "code",
   "execution_count": 3,
   "id": "578034c7-b0f6-43ad-8f9d-6840ae9b3b58",
   "metadata": {},
   "outputs": [
    {
     "data": {
      "text/plain": [
       "(15871, 58)"
      ]
     },
     "execution_count": 3,
     "metadata": {},
     "output_type": "execute_result"
    }
   ],
   "source": [
    "df1.shape"
   ]
  },
  {
   "cell_type": "code",
   "execution_count": 4,
   "id": "2cca4522-06f9-4d8e-a6a8-b65650cebef5",
   "metadata": {},
   "outputs": [
    {
     "data": {
      "text/plain": [
       "Index(['Times', 'Chest Tracker_LOCATION_X', 'Chest Tracker_LOCATION_Y',\n",
       "       'Chest Tracker_LOCATION_Z', '_ROTATION_W', '_ROTATION_X', '_ROTATION_Y',\n",
       "       '_ROTATION_Z', 'LeftShoulder Tracker_LOCATION_X',\n",
       "       'LeftShoulder Tracker_LOCATION_Y', 'LeftShoulder Tracker_LOCATION_Z',\n",
       "       '_ROTATION_W.1', '_ROTATION_X.1', '_ROTATION_Y.1', '_ROTATION_Z.1',\n",
       "       'RightShoulder Tracker_LOCATION_X', 'RightShoulder Tracker_LOCATION_Y',\n",
       "       'RightShoulder Tracker_LOCATION_Z', '_ROTATION_W.2', '_ROTATION_X.2',\n",
       "       '_ROTATION_Y.2', '_ROTATION_Z.2', 'LeftElbow Tracker_LOCATION_X',\n",
       "       'LeftElbow Tracker_LOCATION_Y', 'LeftElbow Tracker_LOCATION_Z',\n",
       "       '_ROTATION_W.3', '_ROTATION_X.3', '_ROTATION_Y.3', '_ROTATION_Z.3',\n",
       "       'RightElbow Tracker_LOCATION_X', 'RightElbow Tracker_LOCATION_Y',\n",
       "       'RightElbow Tracker_LOCATION_Z', '_ROTATION_W.4', '_ROTATION_X.4',\n",
       "       '_ROTATION_Y.4', '_ROTATION_Z.4', 'MotionControllerLeft_LOCATION_X',\n",
       "       'MotionControllerLeft_LOCATION_Y', 'MotionControllerLeft_LOCATION_Z',\n",
       "       '_ROTATION_W.5', '_ROTATION_X.5', '_ROTATION_Y.5', '_ROTATION_Z.5',\n",
       "       'MotionControllerRight_LOCATION_X', 'MotionControllerRight_LOCATION_Y',\n",
       "       'MotionControllerRight_LOCATION_Z', '_ROTATION_W.6', '_ROTATION_X.6',\n",
       "       '_ROTATION_Y.6', '_ROTATION_Z.6', 'HeadCamera_LOCATION_X',\n",
       "       'HeadCamera_LOCATION_Y', 'HeadCamera_LOCATION_Z', '_ROTATION_W.7',\n",
       "       '_ROTATION_X.7', '_ROTATION_Y.7', '_ROTATION_Z.7', 'Unnamed: 57'],\n",
       "      dtype='object')"
      ]
     },
     "execution_count": 4,
     "metadata": {},
     "output_type": "execute_result"
    }
   ],
   "source": [
    "df1.columns"
   ]
  },
  {
   "cell_type": "code",
   "execution_count": 5,
   "id": "eb95d8a3-03cb-43b1-aa2e-1b590513631b",
   "metadata": {},
   "outputs": [],
   "source": [
    "df1 = df1.drop(columns=['Unnamed: 57'])"
   ]
  },
  {
   "cell_type": "markdown",
   "id": "8c325590-ef46-4c50-a4e8-7ba654cd32fa",
   "metadata": {},
   "source": [
    "#### 1) Euclidean Distance - Chest Tracker "
   ]
  },
  {
   "cell_type": "markdown",
   "id": "9b2a3f97-129a-4444-8f5c-71723792542d",
   "metadata": {},
   "source": [
    "##### Note - Euclidean Distance helps in computing distance between position coordinates. diff() function in pandas is used to compute the difference between the values of a DataFrame or Series across a specified axis (usually rows). By default, it calculates the difference between the current row and the previous row."
   ]
  },
  {
   "cell_type": "code",
   "execution_count": 6,
   "id": "3bb1f64e-7367-4caf-90c0-14d64f15abcf",
   "metadata": {},
   "outputs": [],
   "source": [
    "# Calculate Euclidean distance between consecutive time frames for the Chest Tracker\n",
    "df1['Chest Euclidean Distance'] = np.sqrt(\n",
    "    (df1['Chest Tracker_LOCATION_X'].diff() ** 2) + \n",
    "    (df1['Chest Tracker_LOCATION_Y'].diff() ** 2) + \n",
    "    (df1['Chest Tracker_LOCATION_Z'].diff() ** 2)\n",
    ")\n"
   ]
  },
  {
   "cell_type": "markdown",
   "id": "ea6a14ee-fcbf-4be1-924b-4f41fad22340",
   "metadata": {},
   "source": [
    "#### 2) Left Shoulder Tracker"
   ]
  },
  {
   "cell_type": "code",
   "execution_count": 7,
   "id": "3c3fa19d-0941-49da-b404-c293836b870e",
   "metadata": {},
   "outputs": [],
   "source": [
    "df1['LeftShoulder Euclidean Distance'] = np.sqrt(\n",
    "    (df1['LeftShoulder Tracker_LOCATION_X'].diff() ** 2) + \n",
    "    (df1['LeftShoulder Tracker_LOCATION_Y'].diff() ** 2) + \n",
    "    (df1['LeftShoulder Tracker_LOCATION_Z'].diff() ** 2)\n",
    ")"
   ]
  },
  {
   "cell_type": "markdown",
   "id": "fa5f0aef-8451-49ba-834d-036bdec7d482",
   "metadata": {},
   "source": [
    "#### 3) Right Shoulder Tracker"
   ]
  },
  {
   "cell_type": "code",
   "execution_count": 8,
   "id": "0064abe4-3a04-4ad1-9ce6-05ce4e6306c2",
   "metadata": {},
   "outputs": [],
   "source": [
    "df1['RightShoulder Euclidean Distance'] = np.sqrt(\n",
    "    (df1['RightShoulder Tracker_LOCATION_X'].diff() ** 2) + \n",
    "    (df1['RightShoulder Tracker_LOCATION_Y'].diff() ** 2) + \n",
    "    (df1['RightShoulder Tracker_LOCATION_Z'].diff() ** 2)\n",
    ")"
   ]
  },
  {
   "cell_type": "markdown",
   "id": "834ac4fd-4b13-456c-91f9-0848e63ec159",
   "metadata": {},
   "source": [
    "#### 4) Left Elbow Tracker"
   ]
  },
  {
   "cell_type": "code",
   "execution_count": 9,
   "id": "40966776-95e1-4f2e-a42c-53d55beeb459",
   "metadata": {},
   "outputs": [],
   "source": [
    "df1['LeftElbow Euclidean Distance'] = np.sqrt(\n",
    "    (df1['LeftElbow Tracker_LOCATION_X'].diff() ** 2) + \n",
    "    (df1['LeftElbow Tracker_LOCATION_Y'].diff() ** 2) + \n",
    "    (df1['LeftElbow Tracker_LOCATION_Z'].diff() ** 2)\n",
    ")\n"
   ]
  },
  {
   "cell_type": "markdown",
   "id": "430ca063-f2df-4ddb-b55c-f8f596a30d96",
   "metadata": {},
   "source": [
    "#### 5) Right Elbow Tracker"
   ]
  },
  {
   "cell_type": "code",
   "execution_count": 10,
   "id": "01ceec15-0554-4f4f-a8ea-4496eccd0e99",
   "metadata": {},
   "outputs": [],
   "source": [
    "df1['RightElbow Euclidean Distance'] = np.sqrt(\n",
    "    (df1['RightElbow Tracker_LOCATION_X'].diff() ** 2) + \n",
    "    (df1['RightElbow Tracker_LOCATION_Y'].diff() ** 2) + \n",
    "    (df1['RightElbow Tracker_LOCATION_Z'].diff() ** 2)\n",
    ")\n"
   ]
  },
  {
   "cell_type": "markdown",
   "id": "4f548bd0-374e-4ddf-9194-008e31a96e36",
   "metadata": {},
   "source": [
    "#### 6) Motion Controller Left"
   ]
  },
  {
   "cell_type": "code",
   "execution_count": 11,
   "id": "809850ae-bccf-4b12-bfb4-a06c45c6e833",
   "metadata": {},
   "outputs": [],
   "source": [
    "df1['MotionControllerLeft Euclidean Distance'] = np.sqrt(\n",
    "    (df1['MotionControllerLeft_LOCATION_X'].diff() ** 2) + \n",
    "    (df1['MotionControllerLeft_LOCATION_Y'].diff() ** 2) + \n",
    "    (df1['MotionControllerLeft_LOCATION_Z'].diff() ** 2)\n",
    ")"
   ]
  },
  {
   "cell_type": "markdown",
   "id": "ed230905-940a-466a-8247-591a2b9ffb96",
   "metadata": {},
   "source": [
    "#### 7) Motion Controller Right"
   ]
  },
  {
   "cell_type": "code",
   "execution_count": 12,
   "id": "e06558f0-3027-4e0a-bb98-5f4360a6beb6",
   "metadata": {},
   "outputs": [],
   "source": [
    "df1['MotionControllerRight Euclidean Distance'] = np.sqrt(\n",
    "    (df1['MotionControllerRight_LOCATION_X'].diff() ** 2) + \n",
    "    (df1['MotionControllerRight_LOCATION_Y'].diff() ** 2) + \n",
    "    (df1['MotionControllerRight_LOCATION_Z'].diff() ** 2)\n",
    ")"
   ]
  },
  {
   "cell_type": "markdown",
   "id": "eb5ea26d-ea76-4f1d-adcc-98f98ff408b9",
   "metadata": {},
   "source": [
    "#### 8) Head Camera"
   ]
  },
  {
   "cell_type": "code",
   "execution_count": 13,
   "id": "e258edfe-dd7d-44f8-a41a-754d54efd2b8",
   "metadata": {},
   "outputs": [],
   "source": [
    "df1['HeadCamera Euclidean Distance'] = np.sqrt(\n",
    "    (df1['HeadCamera_LOCATION_X'].diff() ** 2) + \n",
    "    (df1['HeadCamera_LOCATION_Y'].diff() ** 2) + \n",
    "    (df1['HeadCamera_LOCATION_Z'].diff() ** 2)\n",
    ")"
   ]
  },
  {
   "cell_type": "code",
   "execution_count": 14,
   "id": "dd5c0ae1-0345-4b47-a232-23a5e376f1d9",
   "metadata": {},
   "outputs": [
    {
     "data": {
      "text/html": [
       "<div>\n",
       "<style scoped>\n",
       "    .dataframe tbody tr th:only-of-type {\n",
       "        vertical-align: middle;\n",
       "    }\n",
       "\n",
       "    .dataframe tbody tr th {\n",
       "        vertical-align: top;\n",
       "    }\n",
       "\n",
       "    .dataframe thead th {\n",
       "        text-align: right;\n",
       "    }\n",
       "</style>\n",
       "<table border=\"1\" class=\"dataframe\">\n",
       "  <thead>\n",
       "    <tr style=\"text-align: right;\">\n",
       "      <th></th>\n",
       "      <th>Tracker</th>\n",
       "      <th>Total Distance</th>\n",
       "    </tr>\n",
       "  </thead>\n",
       "  <tbody>\n",
       "    <tr>\n",
       "      <th>0</th>\n",
       "      <td>Chest</td>\n",
       "      <td>1383.847297</td>\n",
       "    </tr>\n",
       "    <tr>\n",
       "      <th>1</th>\n",
       "      <td>LeftShoulder</td>\n",
       "      <td>1922.001229</td>\n",
       "    </tr>\n",
       "    <tr>\n",
       "      <th>2</th>\n",
       "      <td>RightShoulder</td>\n",
       "      <td>3478.463575</td>\n",
       "    </tr>\n",
       "    <tr>\n",
       "      <th>3</th>\n",
       "      <td>LeftElbow</td>\n",
       "      <td>2423.513426</td>\n",
       "    </tr>\n",
       "    <tr>\n",
       "      <th>4</th>\n",
       "      <td>RightElbow</td>\n",
       "      <td>5490.140021</td>\n",
       "    </tr>\n",
       "    <tr>\n",
       "      <th>5</th>\n",
       "      <td>MotionControllerLeft</td>\n",
       "      <td>4866.029531</td>\n",
       "    </tr>\n",
       "    <tr>\n",
       "      <th>6</th>\n",
       "      <td>MotionControllerRight</td>\n",
       "      <td>4861.301072</td>\n",
       "    </tr>\n",
       "    <tr>\n",
       "      <th>7</th>\n",
       "      <td>HeadCamera</td>\n",
       "      <td>2338.284810</td>\n",
       "    </tr>\n",
       "  </tbody>\n",
       "</table>\n",
       "</div>"
      ],
      "text/plain": [
       "                 Tracker  Total Distance\n",
       "0                  Chest     1383.847297\n",
       "1           LeftShoulder     1922.001229\n",
       "2          RightShoulder     3478.463575\n",
       "3              LeftElbow     2423.513426\n",
       "4             RightElbow     5490.140021\n",
       "5   MotionControllerLeft     4866.029531\n",
       "6  MotionControllerRight     4861.301072\n",
       "7             HeadCamera     2338.284810"
      ]
     },
     "execution_count": 14,
     "metadata": {},
     "output_type": "execute_result"
    }
   ],
   "source": [
    "total_distances = {\n",
    "    'Tracker': ['Chest', 'LeftShoulder', 'RightShoulder', 'LeftElbow', 'RightElbow', \n",
    "                'MotionControllerLeft', 'MotionControllerRight', 'HeadCamera'],\n",
    "    'Total Distance': [\n",
    "        df1['Chest Euclidean Distance'].sum(),\n",
    "        df1['LeftShoulder Euclidean Distance'].sum(),\n",
    "        df1['RightShoulder Euclidean Distance'].sum(),\n",
    "        df1['LeftElbow Euclidean Distance'].sum(),\n",
    "        df1['RightElbow Euclidean Distance'].sum(),\n",
    "        df1['MotionControllerLeft Euclidean Distance'].sum(),\n",
    "        df1['MotionControllerRight Euclidean Distance'].sum(),\n",
    "        df1['HeadCamera Euclidean Distance'].sum()\n",
    "    ]\n",
    "}\n",
    "\n",
    "\n",
    "total_distances_df = pd.DataFrame(total_distances)\n",
    "total_distances_df"
   ]
  },
  {
   "cell_type": "code",
   "execution_count": 15,
   "id": "ca9ac5b8-9eee-490d-9235-dda249913c4f",
   "metadata": {},
   "outputs": [],
   "source": [
    "main_dir = 'C:/Users/FANNY MARIA D SOUZA/Capstone_Movement/VR Data/C019 C/'\n",
    "file_name = 'C019_SimplePie_CompletedStepsData.csv'\n",
    "\n",
    "file_path = os.path.join(main_dir, file_name)\n",
    "\n",
    "df2 = pd.read_csv(file_path)"
   ]
  },
  {
   "cell_type": "code",
   "execution_count": 16,
   "id": "5a5ca152-4083-4b83-80ae-8b0d27a28af3",
   "metadata": {},
   "outputs": [],
   "source": [
    "df1.rename(columns={'Times': 'Session Time'}, inplace=True)\n",
    "df = pd.merge(df1, df2, on='Session Time', how='outer')"
   ]
  },
  {
   "cell_type": "code",
   "execution_count": 17,
   "id": "7d037139-a3cc-4423-a204-d99830d5e564",
   "metadata": {},
   "outputs": [],
   "source": [
    "df = df.sort_values(by='Session Time')"
   ]
  },
  {
   "cell_type": "code",
   "execution_count": 18,
   "id": "a230fbba-051b-4259-b2bd-8c1755649b04",
   "metadata": {},
   "outputs": [
    {
     "data": {
      "text/html": [
       "<div>\n",
       "<style scoped>\n",
       "    .dataframe tbody tr th:only-of-type {\n",
       "        vertical-align: middle;\n",
       "    }\n",
       "\n",
       "    .dataframe tbody tr th {\n",
       "        vertical-align: top;\n",
       "    }\n",
       "\n",
       "    .dataframe thead th {\n",
       "        text-align: right;\n",
       "    }\n",
       "</style>\n",
       "<table border=\"1\" class=\"dataframe\">\n",
       "  <thead>\n",
       "    <tr style=\"text-align: right;\">\n",
       "      <th>Tracker</th>\n",
       "      <th>Step</th>\n",
       "      <th>Chest Euclidean Distance</th>\n",
       "      <th>HeadCamera Euclidean Distance</th>\n",
       "      <th>LeftElbow Euclidean Distance</th>\n",
       "      <th>LeftShoulder Euclidean Distance</th>\n",
       "      <th>MotionControllerLeft Euclidean Distance</th>\n",
       "      <th>MotionControllerRight Euclidean Distance</th>\n",
       "      <th>RightElbow Euclidean Distance</th>\n",
       "      <th>RightShoulder Euclidean Distance</th>\n",
       "    </tr>\n",
       "  </thead>\n",
       "  <tbody>\n",
       "    <tr>\n",
       "      <th>0</th>\n",
       "      <td>Add Sugar</td>\n",
       "      <td>180.132028</td>\n",
       "      <td>428.556410</td>\n",
       "      <td>695.626225</td>\n",
       "      <td>351.368776</td>\n",
       "      <td>808.390077</td>\n",
       "      <td>131.023879</td>\n",
       "      <td>837.637312</td>\n",
       "      <td>547.770586</td>\n",
       "    </tr>\n",
       "    <tr>\n",
       "      <th>1</th>\n",
       "      <td>Add apples to pan</td>\n",
       "      <td>207.500902</td>\n",
       "      <td>330.472059</td>\n",
       "      <td>405.405529</td>\n",
       "      <td>228.189871</td>\n",
       "      <td>1771.425292</td>\n",
       "      <td>110.935285</td>\n",
       "      <td>943.312282</td>\n",
       "      <td>562.875621</td>\n",
       "    </tr>\n",
       "    <tr>\n",
       "      <th>2</th>\n",
       "      <td>Add bottom crust</td>\n",
       "      <td>31.075632</td>\n",
       "      <td>60.493633</td>\n",
       "      <td>21.545150</td>\n",
       "      <td>36.963171</td>\n",
       "      <td>17.007439</td>\n",
       "      <td>260.054504</td>\n",
       "      <td>163.271050</td>\n",
       "      <td>92.322240</td>\n",
       "    </tr>\n",
       "    <tr>\n",
       "      <th>3</th>\n",
       "      <td>Add butter</td>\n",
       "      <td>0.000000</td>\n",
       "      <td>102.319814</td>\n",
       "      <td>0.000000</td>\n",
       "      <td>64.844725</td>\n",
       "      <td>358.636328</td>\n",
       "      <td>0.000000</td>\n",
       "      <td>241.756197</td>\n",
       "      <td>160.074396</td>\n",
       "    </tr>\n",
       "    <tr>\n",
       "      <th>4</th>\n",
       "      <td>Add cinnamon</td>\n",
       "      <td>242.023597</td>\n",
       "      <td>314.452562</td>\n",
       "      <td>627.743619</td>\n",
       "      <td>422.422681</td>\n",
       "      <td>882.320816</td>\n",
       "      <td>1030.672886</td>\n",
       "      <td>567.649296</td>\n",
       "      <td>363.854230</td>\n",
       "    </tr>\n",
       "    <tr>\n",
       "      <th>5</th>\n",
       "      <td>Add crust top</td>\n",
       "      <td>143.077504</td>\n",
       "      <td>197.756925</td>\n",
       "      <td>281.300912</td>\n",
       "      <td>226.541034</td>\n",
       "      <td>387.526666</td>\n",
       "      <td>881.089580</td>\n",
       "      <td>627.494689</td>\n",
       "      <td>368.058107</td>\n",
       "    </tr>\n",
       "    <tr>\n",
       "      <th>6</th>\n",
       "      <td>Add water</td>\n",
       "      <td>0.000000</td>\n",
       "      <td>80.126575</td>\n",
       "      <td>0.000000</td>\n",
       "      <td>45.907536</td>\n",
       "      <td>223.479588</td>\n",
       "      <td>0.000000</td>\n",
       "      <td>167.816392</td>\n",
       "      <td>115.468651</td>\n",
       "    </tr>\n",
       "    <tr>\n",
       "      <th>7</th>\n",
       "      <td>Post last step</td>\n",
       "      <td>247.256103</td>\n",
       "      <td>352.523069</td>\n",
       "      <td>170.439778</td>\n",
       "      <td>246.408463</td>\n",
       "      <td>167.358357</td>\n",
       "      <td>813.480954</td>\n",
       "      <td>687.952992</td>\n",
       "      <td>460.885173</td>\n",
       "    </tr>\n",
       "    <tr>\n",
       "      <th>8</th>\n",
       "      <td>Pour syrup</td>\n",
       "      <td>57.807381</td>\n",
       "      <td>76.317682</td>\n",
       "      <td>34.719657</td>\n",
       "      <td>47.969389</td>\n",
       "      <td>36.482578</td>\n",
       "      <td>333.557224</td>\n",
       "      <td>240.517588</td>\n",
       "      <td>157.968698</td>\n",
       "    </tr>\n",
       "    <tr>\n",
       "      <th>9</th>\n",
       "      <td>Put pie in oven</td>\n",
       "      <td>185.570837</td>\n",
       "      <td>274.748966</td>\n",
       "      <td>132.523764</td>\n",
       "      <td>172.869095</td>\n",
       "      <td>171.422058</td>\n",
       "      <td>747.038614</td>\n",
       "      <td>592.252997</td>\n",
       "      <td>394.682842</td>\n",
       "    </tr>\n",
       "    <tr>\n",
       "      <th>10</th>\n",
       "      <td>Stir bowl</td>\n",
       "      <td>89.403311</td>\n",
       "      <td>120.517114</td>\n",
       "      <td>54.208790</td>\n",
       "      <td>78.516487</td>\n",
       "      <td>41.980331</td>\n",
       "      <td>553.448146</td>\n",
       "      <td>420.479226</td>\n",
       "      <td>254.503031</td>\n",
       "    </tr>\n",
       "  </tbody>\n",
       "</table>\n",
       "</div>"
      ],
      "text/plain": [
       "Tracker               Step  Chest Euclidean Distance  \\\n",
       "0               Add Sugar                 180.132028   \n",
       "1        Add apples to pan                207.500902   \n",
       "2         Add bottom crust                 31.075632   \n",
       "3               Add butter                  0.000000   \n",
       "4             Add cinnamon                242.023597   \n",
       "5            Add crust top                143.077504   \n",
       "6                Add water                  0.000000   \n",
       "7           Post last step                247.256103   \n",
       "8               Pour syrup                 57.807381   \n",
       "9          Put pie in oven                185.570837   \n",
       "10               Stir bowl                 89.403311   \n",
       "\n",
       "Tracker  HeadCamera Euclidean Distance  LeftElbow Euclidean Distance  \\\n",
       "0                           428.556410                    695.626225   \n",
       "1                           330.472059                    405.405529   \n",
       "2                            60.493633                     21.545150   \n",
       "3                           102.319814                      0.000000   \n",
       "4                           314.452562                    627.743619   \n",
       "5                           197.756925                    281.300912   \n",
       "6                            80.126575                      0.000000   \n",
       "7                           352.523069                    170.439778   \n",
       "8                            76.317682                     34.719657   \n",
       "9                           274.748966                    132.523764   \n",
       "10                          120.517114                     54.208790   \n",
       "\n",
       "Tracker  LeftShoulder Euclidean Distance  \\\n",
       "0                             351.368776   \n",
       "1                             228.189871   \n",
       "2                              36.963171   \n",
       "3                              64.844725   \n",
       "4                             422.422681   \n",
       "5                             226.541034   \n",
       "6                              45.907536   \n",
       "7                             246.408463   \n",
       "8                              47.969389   \n",
       "9                             172.869095   \n",
       "10                             78.516487   \n",
       "\n",
       "Tracker  MotionControllerLeft Euclidean Distance  \\\n",
       "0                                     808.390077   \n",
       "1                                    1771.425292   \n",
       "2                                      17.007439   \n",
       "3                                     358.636328   \n",
       "4                                     882.320816   \n",
       "5                                     387.526666   \n",
       "6                                     223.479588   \n",
       "7                                     167.358357   \n",
       "8                                      36.482578   \n",
       "9                                     171.422058   \n",
       "10                                     41.980331   \n",
       "\n",
       "Tracker  MotionControllerRight Euclidean Distance  \\\n",
       "0                                      131.023879   \n",
       "1                                      110.935285   \n",
       "2                                      260.054504   \n",
       "3                                        0.000000   \n",
       "4                                     1030.672886   \n",
       "5                                      881.089580   \n",
       "6                                        0.000000   \n",
       "7                                      813.480954   \n",
       "8                                      333.557224   \n",
       "9                                      747.038614   \n",
       "10                                     553.448146   \n",
       "\n",
       "Tracker  RightElbow Euclidean Distance  RightShoulder Euclidean Distance  \n",
       "0                           837.637312                        547.770586  \n",
       "1                           943.312282                        562.875621  \n",
       "2                           163.271050                         92.322240  \n",
       "3                           241.756197                        160.074396  \n",
       "4                           567.649296                        363.854230  \n",
       "5                           627.494689                        368.058107  \n",
       "6                           167.816392                        115.468651  \n",
       "7                           687.952992                        460.885173  \n",
       "8                           240.517588                        157.968698  \n",
       "9                           592.252997                        394.682842  \n",
       "10                          420.479226                        254.503031  "
      ]
     },
     "execution_count": 18,
     "metadata": {},
     "output_type": "execute_result"
    }
   ],
   "source": [
    "distance_columns = [\n",
    "    'Chest Euclidean Distance', 'LeftShoulder Euclidean Distance',\n",
    "    'RightShoulder Euclidean Distance', 'LeftElbow Euclidean Distance',\n",
    "    'RightElbow Euclidean Distance', 'MotionControllerLeft Euclidean Distance',\n",
    "    'MotionControllerRight Euclidean Distance', 'HeadCamera Euclidean Distance'\n",
    "]\n",
    "\n",
    "# Get the indices of the rows where 'Completed Step' is not NaN\n",
    "df = df.reset_index(drop=True)\n",
    "completed_indices = df.index[df['Completed Step'].notna()].tolist()\n",
    "\n",
    "cumulative_distances_trackers = {tracker: {} for tracker in distance_columns}\n",
    "\n",
    "\n",
    "for tracker in distance_columns:\n",
    "    for i in range(len(completed_indices)):\n",
    "        start_index = 0 if i == 0 else completed_indices[i - 1] + 1\n",
    "        end_index = completed_indices[i]\n",
    "        \n",
    "        # Get the step name\n",
    "        step_name = df.loc[end_index, 'Completed Step']\n",
    "        \n",
    "        # Calculate the cumulative distance for the given range\n",
    "        cumulative_distance = df.loc[start_index:end_index, tracker].sum()\n",
    "        \n",
    "        # Accumulate the total distance for each unique step\n",
    "        if step_name in cumulative_distances_trackers[tracker]:\n",
    "            cumulative_distances_trackers[tracker][step_name] += cumulative_distance\n",
    "        else:\n",
    "            cumulative_distances_trackers[tracker][step_name] = cumulative_distance\n",
    "\n",
    "    # Distance for the \"Post last step\"\n",
    "    last_step_index = completed_indices[-1] + 1\n",
    "    post_last_step_distance = df.loc[last_step_index:, tracker].sum()\n",
    "    cumulative_distances_trackers[tracker][\"Post last step\"] = post_last_step_distance\n",
    "\n",
    "# Create a combined DataFrame that includes all trackers in one table\n",
    "combined_data = []\n",
    "\n",
    "# Iterate through each tracker and their respective data to combine it into one list\n",
    "for tracker, distances in cumulative_distances_trackers.items():\n",
    "    for step, total_distance in distances.items():\n",
    "        combined_data.append({\n",
    "            'Step': step,\n",
    "            'Tracker': tracker,\n",
    "            'Total Distance': total_distance\n",
    "        })\n",
    "\n",
    "combined_df = pd.DataFrame(combined_data)\n",
    "\n",
    "combined_pivot_df = combined_df.pivot(index='Step', columns='Tracker', values='Total Distance').reset_index()\n",
    "combined_pivot_df"
   ]
  },
  {
   "cell_type": "code",
   "execution_count": 19,
   "id": "f9316f2c-9111-4d3a-986c-ec2efcdea051",
   "metadata": {},
   "outputs": [
    {
     "data": {
      "text/plain": [
       "Tracker\n",
       "Chest Euclidean Distance                    1383.847297\n",
       "LeftShoulder Euclidean Distance             1922.001229\n",
       "RightShoulder Euclidean Distance            3478.463575\n",
       "LeftElbow Euclidean Distance                2423.513426\n",
       "RightElbow Euclidean Distance               5490.140021\n",
       "MotionControllerLeft Euclidean Distance     4866.029531\n",
       "MotionControllerRight Euclidean Distance    4861.301072\n",
       "HeadCamera Euclidean Distance               2338.284810\n",
       "dtype: float64"
      ]
     },
     "execution_count": 19,
     "metadata": {},
     "output_type": "execute_result"
    }
   ],
   "source": [
    "total_sum = combined_pivot_df[distance_columns].sum()\n",
    "total_sum"
   ]
  }
 ],
 "metadata": {
  "kernelspec": {
   "display_name": "Python 3 (ipykernel)",
   "language": "python",
   "name": "python3"
  },
  "language_info": {
   "codemirror_mode": {
    "name": "ipython",
    "version": 3
   },
   "file_extension": ".py",
   "mimetype": "text/x-python",
   "name": "python",
   "nbconvert_exporter": "python",
   "pygments_lexer": "ipython3",
   "version": "3.11.7"
  }
 },
 "nbformat": 4,
 "nbformat_minor": 5
}
