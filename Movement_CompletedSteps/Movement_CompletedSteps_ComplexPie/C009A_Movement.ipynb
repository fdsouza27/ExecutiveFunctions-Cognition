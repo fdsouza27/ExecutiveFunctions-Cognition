{
 "cells": [
  {
   "cell_type": "code",
   "execution_count": 1,
   "id": "6aa535bd-1e8d-4699-b064-fd119724107d",
   "metadata": {},
   "outputs": [],
   "source": [
    "import os\n",
    "import pandas as pd\n",
    "import numpy as np"
   ]
  },
  {
   "cell_type": "code",
   "execution_count": 2,
   "id": "70bfdcdd-752d-41d4-bfe0-7e4cc2969e6a",
   "metadata": {},
   "outputs": [],
   "source": [
    "main_dir = 'C:/Users/FANNY MARIA D SOUZA/Capstone_Movement/VR Data/C009 A/'\n",
    "file_name = 'C009_ComplexPie_MovementData.csv'\n",
    "\n",
    "file_path = os.path.join(main_dir, file_name)\n",
    "\n",
    "df1 = pd.read_csv(file_path)"
   ]
  },
  {
   "cell_type": "code",
   "execution_count": 3,
   "id": "578034c7-b0f6-43ad-8f9d-6840ae9b3b58",
   "metadata": {},
   "outputs": [
    {
     "data": {
      "text/plain": [
       "(26715, 58)"
      ]
     },
     "execution_count": 3,
     "metadata": {},
     "output_type": "execute_result"
    }
   ],
   "source": [
    "df1.shape"
   ]
  },
  {
   "cell_type": "code",
   "execution_count": 4,
   "id": "2cca4522-06f9-4d8e-a6a8-b65650cebef5",
   "metadata": {},
   "outputs": [
    {
     "data": {
      "text/plain": [
       "Index(['Times', 'Chest Tracker_LOCATION_X', 'Chest Tracker_LOCATION_Y',\n",
       "       'Chest Tracker_LOCATION_Z', '_ROTATION_W', '_ROTATION_X', '_ROTATION_Y',\n",
       "       '_ROTATION_Z', 'LeftShoulder Tracker_LOCATION_X',\n",
       "       'LeftShoulder Tracker_LOCATION_Y', 'LeftShoulder Tracker_LOCATION_Z',\n",
       "       '_ROTATION_W.1', '_ROTATION_X.1', '_ROTATION_Y.1', '_ROTATION_Z.1',\n",
       "       'RightShoulder Tracker_LOCATION_X', 'RightShoulder Tracker_LOCATION_Y',\n",
       "       'RightShoulder Tracker_LOCATION_Z', '_ROTATION_W.2', '_ROTATION_X.2',\n",
       "       '_ROTATION_Y.2', '_ROTATION_Z.2', 'LeftElbow Tracker_LOCATION_X',\n",
       "       'LeftElbow Tracker_LOCATION_Y', 'LeftElbow Tracker_LOCATION_Z',\n",
       "       '_ROTATION_W.3', '_ROTATION_X.3', '_ROTATION_Y.3', '_ROTATION_Z.3',\n",
       "       'RightElbow Tracker_LOCATION_X', 'RightElbow Tracker_LOCATION_Y',\n",
       "       'RightElbow Tracker_LOCATION_Z', '_ROTATION_W.4', '_ROTATION_X.4',\n",
       "       '_ROTATION_Y.4', '_ROTATION_Z.4', 'MotionControllerLeft_LOCATION_X',\n",
       "       'MotionControllerLeft_LOCATION_Y', 'MotionControllerLeft_LOCATION_Z',\n",
       "       '_ROTATION_W.5', '_ROTATION_X.5', '_ROTATION_Y.5', '_ROTATION_Z.5',\n",
       "       'MotionControllerRight_LOCATION_X', 'MotionControllerRight_LOCATION_Y',\n",
       "       'MotionControllerRight_LOCATION_Z', '_ROTATION_W.6', '_ROTATION_X.6',\n",
       "       '_ROTATION_Y.6', '_ROTATION_Z.6', 'HeadCamera_LOCATION_X',\n",
       "       'HeadCamera_LOCATION_Y', 'HeadCamera_LOCATION_Z', '_ROTATION_W.7',\n",
       "       '_ROTATION_X.7', '_ROTATION_Y.7', '_ROTATION_Z.7', 'Unnamed: 57'],\n",
       "      dtype='object')"
      ]
     },
     "execution_count": 4,
     "metadata": {},
     "output_type": "execute_result"
    }
   ],
   "source": [
    "df1.columns"
   ]
  },
  {
   "cell_type": "code",
   "execution_count": 5,
   "id": "eb95d8a3-03cb-43b1-aa2e-1b590513631b",
   "metadata": {},
   "outputs": [],
   "source": [
    "df1 = df1.drop(columns=['Unnamed: 57'])"
   ]
  },
  {
   "cell_type": "markdown",
   "id": "8c325590-ef46-4c50-a4e8-7ba654cd32fa",
   "metadata": {},
   "source": [
    "#### 1) Euclidean Distance - Chest Tracker "
   ]
  },
  {
   "cell_type": "markdown",
   "id": "9b2a3f97-129a-4444-8f5c-71723792542d",
   "metadata": {},
   "source": [
    "##### Note - Euclidean Distance helps in computing distance between position coordinates. diff() function in pandas is used to compute the difference between the values of a DataFrame or Series across a specified axis (usually rows). By default, it calculates the difference between the current row and the previous row."
   ]
  },
  {
   "cell_type": "code",
   "execution_count": 6,
   "id": "3bb1f64e-7367-4caf-90c0-14d64f15abcf",
   "metadata": {},
   "outputs": [],
   "source": [
    "# Calculate Euclidean distance between consecutive time frames for the Chest Tracker\n",
    "df1['Chest Euclidean Distance'] = np.sqrt(\n",
    "    (df1['Chest Tracker_LOCATION_X'].diff() ** 2) + \n",
    "    (df1['Chest Tracker_LOCATION_Y'].diff() ** 2) + \n",
    "    (df1['Chest Tracker_LOCATION_Z'].diff() ** 2)\n",
    ")\n"
   ]
  },
  {
   "cell_type": "markdown",
   "id": "ea6a14ee-fcbf-4be1-924b-4f41fad22340",
   "metadata": {},
   "source": [
    "#### 2) Left Shoulder Tracker"
   ]
  },
  {
   "cell_type": "code",
   "execution_count": 7,
   "id": "3c3fa19d-0941-49da-b404-c293836b870e",
   "metadata": {},
   "outputs": [],
   "source": [
    "df1['LeftShoulder Euclidean Distance'] = np.sqrt(\n",
    "    (df1['LeftShoulder Tracker_LOCATION_X'].diff() ** 2) + \n",
    "    (df1['LeftShoulder Tracker_LOCATION_Y'].diff() ** 2) + \n",
    "    (df1['LeftShoulder Tracker_LOCATION_Z'].diff() ** 2)\n",
    ")"
   ]
  },
  {
   "cell_type": "markdown",
   "id": "fa5f0aef-8451-49ba-834d-036bdec7d482",
   "metadata": {},
   "source": [
    "#### 3) Right Shoulder Tracker"
   ]
  },
  {
   "cell_type": "code",
   "execution_count": 8,
   "id": "0064abe4-3a04-4ad1-9ce6-05ce4e6306c2",
   "metadata": {},
   "outputs": [],
   "source": [
    "df1['RightShoulder Euclidean Distance'] = np.sqrt(\n",
    "    (df1['RightShoulder Tracker_LOCATION_X'].diff() ** 2) + \n",
    "    (df1['RightShoulder Tracker_LOCATION_Y'].diff() ** 2) + \n",
    "    (df1['RightShoulder Tracker_LOCATION_Z'].diff() ** 2)\n",
    ")"
   ]
  },
  {
   "cell_type": "markdown",
   "id": "834ac4fd-4b13-456c-91f9-0848e63ec159",
   "metadata": {},
   "source": [
    "#### 4) Left Elbow Tracker"
   ]
  },
  {
   "cell_type": "code",
   "execution_count": 9,
   "id": "40966776-95e1-4f2e-a42c-53d55beeb459",
   "metadata": {},
   "outputs": [],
   "source": [
    "df1['LeftElbow Euclidean Distance'] = np.sqrt(\n",
    "    (df1['LeftElbow Tracker_LOCATION_X'].diff() ** 2) + \n",
    "    (df1['LeftElbow Tracker_LOCATION_Y'].diff() ** 2) + \n",
    "    (df1['LeftElbow Tracker_LOCATION_Z'].diff() ** 2)\n",
    ")\n"
   ]
  },
  {
   "cell_type": "markdown",
   "id": "430ca063-f2df-4ddb-b55c-f8f596a30d96",
   "metadata": {},
   "source": [
    "#### 5) Right Elbow Tracker"
   ]
  },
  {
   "cell_type": "code",
   "execution_count": 10,
   "id": "01ceec15-0554-4f4f-a8ea-4496eccd0e99",
   "metadata": {},
   "outputs": [],
   "source": [
    "df1['RightElbow Euclidean Distance'] = np.sqrt(\n",
    "    (df1['RightElbow Tracker_LOCATION_X'].diff() ** 2) + \n",
    "    (df1['RightElbow Tracker_LOCATION_Y'].diff() ** 2) + \n",
    "    (df1['RightElbow Tracker_LOCATION_Z'].diff() ** 2)\n",
    ")\n"
   ]
  },
  {
   "cell_type": "markdown",
   "id": "4f548bd0-374e-4ddf-9194-008e31a96e36",
   "metadata": {},
   "source": [
    "#### 6) Motion Controller Left"
   ]
  },
  {
   "cell_type": "code",
   "execution_count": 11,
   "id": "809850ae-bccf-4b12-bfb4-a06c45c6e833",
   "metadata": {},
   "outputs": [],
   "source": [
    "df1['MotionControllerLeft Euclidean Distance'] = np.sqrt(\n",
    "    (df1['MotionControllerLeft_LOCATION_X'].diff() ** 2) + \n",
    "    (df1['MotionControllerLeft_LOCATION_Y'].diff() ** 2) + \n",
    "    (df1['MotionControllerLeft_LOCATION_Z'].diff() ** 2)\n",
    ")"
   ]
  },
  {
   "cell_type": "markdown",
   "id": "ed230905-940a-466a-8247-591a2b9ffb96",
   "metadata": {},
   "source": [
    "#### 7) Motion Controller Right"
   ]
  },
  {
   "cell_type": "code",
   "execution_count": 12,
   "id": "e06558f0-3027-4e0a-bb98-5f4360a6beb6",
   "metadata": {},
   "outputs": [],
   "source": [
    "df1['MotionControllerRight Euclidean Distance'] = np.sqrt(\n",
    "    (df1['MotionControllerRight_LOCATION_X'].diff() ** 2) + \n",
    "    (df1['MotionControllerRight_LOCATION_Y'].diff() ** 2) + \n",
    "    (df1['MotionControllerRight_LOCATION_Z'].diff() ** 2)\n",
    ")"
   ]
  },
  {
   "cell_type": "markdown",
   "id": "eb5ea26d-ea76-4f1d-adcc-98f98ff408b9",
   "metadata": {},
   "source": [
    "#### 8) Head Camera"
   ]
  },
  {
   "cell_type": "code",
   "execution_count": 13,
   "id": "e258edfe-dd7d-44f8-a41a-754d54efd2b8",
   "metadata": {},
   "outputs": [],
   "source": [
    "df1['HeadCamera Euclidean Distance'] = np.sqrt(\n",
    "    (df1['HeadCamera_LOCATION_X'].diff() ** 2) + \n",
    "    (df1['HeadCamera_LOCATION_Y'].diff() ** 2) + \n",
    "    (df1['HeadCamera_LOCATION_Z'].diff() ** 2)\n",
    ")"
   ]
  },
  {
   "cell_type": "code",
   "execution_count": 14,
   "id": "dd5c0ae1-0345-4b47-a232-23a5e376f1d9",
   "metadata": {},
   "outputs": [
    {
     "data": {
      "text/html": [
       "<div>\n",
       "<style scoped>\n",
       "    .dataframe tbody tr th:only-of-type {\n",
       "        vertical-align: middle;\n",
       "    }\n",
       "\n",
       "    .dataframe tbody tr th {\n",
       "        vertical-align: top;\n",
       "    }\n",
       "\n",
       "    .dataframe thead th {\n",
       "        text-align: right;\n",
       "    }\n",
       "</style>\n",
       "<table border=\"1\" class=\"dataframe\">\n",
       "  <thead>\n",
       "    <tr style=\"text-align: right;\">\n",
       "      <th></th>\n",
       "      <th>Tracker</th>\n",
       "      <th>Total Distance</th>\n",
       "    </tr>\n",
       "  </thead>\n",
       "  <tbody>\n",
       "    <tr>\n",
       "      <th>0</th>\n",
       "      <td>Chest</td>\n",
       "      <td>6033.585268</td>\n",
       "    </tr>\n",
       "    <tr>\n",
       "      <th>1</th>\n",
       "      <td>LeftShoulder</td>\n",
       "      <td>7572.354870</td>\n",
       "    </tr>\n",
       "    <tr>\n",
       "      <th>2</th>\n",
       "      <td>RightShoulder</td>\n",
       "      <td>9907.909661</td>\n",
       "    </tr>\n",
       "    <tr>\n",
       "      <th>3</th>\n",
       "      <td>LeftElbow</td>\n",
       "      <td>7296.033427</td>\n",
       "    </tr>\n",
       "    <tr>\n",
       "      <th>4</th>\n",
       "      <td>RightElbow</td>\n",
       "      <td>13271.209674</td>\n",
       "    </tr>\n",
       "    <tr>\n",
       "      <th>5</th>\n",
       "      <td>MotionControllerLeft</td>\n",
       "      <td>7315.455306</td>\n",
       "    </tr>\n",
       "    <tr>\n",
       "      <th>6</th>\n",
       "      <td>MotionControllerRight</td>\n",
       "      <td>17737.162340</td>\n",
       "    </tr>\n",
       "    <tr>\n",
       "      <th>7</th>\n",
       "      <td>HeadCamera</td>\n",
       "      <td>8253.252412</td>\n",
       "    </tr>\n",
       "  </tbody>\n",
       "</table>\n",
       "</div>"
      ],
      "text/plain": [
       "                 Tracker  Total Distance\n",
       "0                  Chest     6033.585268\n",
       "1           LeftShoulder     7572.354870\n",
       "2          RightShoulder     9907.909661\n",
       "3              LeftElbow     7296.033427\n",
       "4             RightElbow    13271.209674\n",
       "5   MotionControllerLeft     7315.455306\n",
       "6  MotionControllerRight    17737.162340\n",
       "7             HeadCamera     8253.252412"
      ]
     },
     "execution_count": 14,
     "metadata": {},
     "output_type": "execute_result"
    }
   ],
   "source": [
    "total_distances = {\n",
    "    'Tracker': ['Chest', 'LeftShoulder', 'RightShoulder', 'LeftElbow', 'RightElbow', \n",
    "                'MotionControllerLeft', 'MotionControllerRight', 'HeadCamera'],\n",
    "    'Total Distance': [\n",
    "        df1['Chest Euclidean Distance'].sum(),\n",
    "        df1['LeftShoulder Euclidean Distance'].sum(),\n",
    "        df1['RightShoulder Euclidean Distance'].sum(),\n",
    "        df1['LeftElbow Euclidean Distance'].sum(),\n",
    "        df1['RightElbow Euclidean Distance'].sum(),\n",
    "        df1['MotionControllerLeft Euclidean Distance'].sum(),\n",
    "        df1['MotionControllerRight Euclidean Distance'].sum(),\n",
    "        df1['HeadCamera Euclidean Distance'].sum()\n",
    "    ]\n",
    "}\n",
    "\n",
    "# Create a new DataFrame from the dictionary\n",
    "total_distances_df = pd.DataFrame(total_distances)\n",
    "\n",
    "# Display the new dataframe\n",
    "total_distances_df"
   ]
  },
  {
   "cell_type": "code",
   "execution_count": 15,
   "id": "ca9ac5b8-9eee-490d-9235-dda249913c4f",
   "metadata": {},
   "outputs": [],
   "source": [
    "main_dir = 'C:/Users/FANNY MARIA D SOUZA/Capstone_Movement/VR Data/C009 A/'\n",
    "file_name = 'C009_ComplexPie_CompletedStepsData.csv'\n",
    "\n",
    "file_path = os.path.join(main_dir, file_name)\n",
    "\n",
    "df2 = pd.read_csv(file_path)"
   ]
  },
  {
   "cell_type": "code",
   "execution_count": 16,
   "id": "401c7ed5-6ee9-412a-ab75-805c7275e257",
   "metadata": {},
   "outputs": [],
   "source": [
    "df1.rename(columns={'Times': 'Session Time'}, inplace=True)\n",
    "df = pd.merge(df1, df2, on='Session Time', how='outer')"
   ]
  },
  {
   "cell_type": "code",
   "execution_count": 17,
   "id": "7caa366f-9f49-4382-ad8c-914fe359678c",
   "metadata": {},
   "outputs": [
    {
     "data": {
      "text/html": [
       "<div>\n",
       "<style scoped>\n",
       "    .dataframe tbody tr th:only-of-type {\n",
       "        vertical-align: middle;\n",
       "    }\n",
       "\n",
       "    .dataframe tbody tr th {\n",
       "        vertical-align: top;\n",
       "    }\n",
       "\n",
       "    .dataframe thead th {\n",
       "        text-align: right;\n",
       "    }\n",
       "</style>\n",
       "<table border=\"1\" class=\"dataframe\">\n",
       "  <thead>\n",
       "    <tr style=\"text-align: right;\">\n",
       "      <th>Tracker</th>\n",
       "      <th>Step</th>\n",
       "      <th>Chest Euclidean Distance</th>\n",
       "      <th>HeadCamera Euclidean Distance</th>\n",
       "      <th>LeftElbow Euclidean Distance</th>\n",
       "      <th>LeftShoulder Euclidean Distance</th>\n",
       "      <th>MotionControllerLeft Euclidean Distance</th>\n",
       "      <th>MotionControllerRight Euclidean Distance</th>\n",
       "      <th>RightElbow Euclidean Distance</th>\n",
       "      <th>RightShoulder Euclidean Distance</th>\n",
       "    </tr>\n",
       "  </thead>\n",
       "  <tbody>\n",
       "    <tr>\n",
       "      <th>0</th>\n",
       "      <td>Add Sugar</td>\n",
       "      <td>1170.091011</td>\n",
       "      <td>1528.348308</td>\n",
       "      <td>1472.956809</td>\n",
       "      <td>1469.479488</td>\n",
       "      <td>1482.519391</td>\n",
       "      <td>2502.618246</td>\n",
       "      <td>2211.283018</td>\n",
       "      <td>1746.598537</td>\n",
       "    </tr>\n",
       "    <tr>\n",
       "      <th>1</th>\n",
       "      <td>Add apples to pan</td>\n",
       "      <td>2344.988669</td>\n",
       "      <td>3274.813739</td>\n",
       "      <td>2672.153843</td>\n",
       "      <td>3108.914340</td>\n",
       "      <td>2660.870183</td>\n",
       "      <td>8043.298615</td>\n",
       "      <td>5350.501010</td>\n",
       "      <td>3900.905669</td>\n",
       "    </tr>\n",
       "    <tr>\n",
       "      <th>2</th>\n",
       "      <td>Add bottom crust</td>\n",
       "      <td>157.382911</td>\n",
       "      <td>217.705582</td>\n",
       "      <td>192.299875</td>\n",
       "      <td>171.735287</td>\n",
       "      <td>206.842295</td>\n",
       "      <td>651.572765</td>\n",
       "      <td>482.770740</td>\n",
       "      <td>297.599671</td>\n",
       "    </tr>\n",
       "    <tr>\n",
       "      <th>3</th>\n",
       "      <td>Add butter</td>\n",
       "      <td>427.487776</td>\n",
       "      <td>540.538002</td>\n",
       "      <td>486.192224</td>\n",
       "      <td>477.866274</td>\n",
       "      <td>476.424223</td>\n",
       "      <td>1306.985480</td>\n",
       "      <td>963.798138</td>\n",
       "      <td>706.778471</td>\n",
       "    </tr>\n",
       "    <tr>\n",
       "      <th>4</th>\n",
       "      <td>Add cinnamon</td>\n",
       "      <td>113.008018</td>\n",
       "      <td>181.765418</td>\n",
       "      <td>155.237545</td>\n",
       "      <td>152.036453</td>\n",
       "      <td>144.311283</td>\n",
       "      <td>381.119681</td>\n",
       "      <td>328.953711</td>\n",
       "      <td>222.022422</td>\n",
       "    </tr>\n",
       "    <tr>\n",
       "      <th>5</th>\n",
       "      <td>Add crust top</td>\n",
       "      <td>201.770038</td>\n",
       "      <td>304.271309</td>\n",
       "      <td>366.606081</td>\n",
       "      <td>304.984571</td>\n",
       "      <td>383.776629</td>\n",
       "      <td>603.685648</td>\n",
       "      <td>483.479056</td>\n",
       "      <td>362.584271</td>\n",
       "    </tr>\n",
       "    <tr>\n",
       "      <th>6</th>\n",
       "      <td>Add water</td>\n",
       "      <td>153.981014</td>\n",
       "      <td>232.855560</td>\n",
       "      <td>174.022086</td>\n",
       "      <td>183.790053</td>\n",
       "      <td>164.283716</td>\n",
       "      <td>406.946399</td>\n",
       "      <td>372.477972</td>\n",
       "      <td>259.926184</td>\n",
       "    </tr>\n",
       "    <tr>\n",
       "      <th>7</th>\n",
       "      <td>Post last step</td>\n",
       "      <td>573.552674</td>\n",
       "      <td>782.557761</td>\n",
       "      <td>578.454458</td>\n",
       "      <td>589.206496</td>\n",
       "      <td>570.087392</td>\n",
       "      <td>1311.690902</td>\n",
       "      <td>1137.989375</td>\n",
       "      <td>915.355602</td>\n",
       "    </tr>\n",
       "    <tr>\n",
       "      <th>8</th>\n",
       "      <td>Pour syrup</td>\n",
       "      <td>94.413539</td>\n",
       "      <td>163.770799</td>\n",
       "      <td>166.705077</td>\n",
       "      <td>154.378053</td>\n",
       "      <td>192.135676</td>\n",
       "      <td>375.831706</td>\n",
       "      <td>228.019399</td>\n",
       "      <td>174.918945</td>\n",
       "    </tr>\n",
       "    <tr>\n",
       "      <th>9</th>\n",
       "      <td>Put pie in oven</td>\n",
       "      <td>422.700850</td>\n",
       "      <td>583.094933</td>\n",
       "      <td>511.312859</td>\n",
       "      <td>504.001243</td>\n",
       "      <td>484.500992</td>\n",
       "      <td>991.293627</td>\n",
       "      <td>864.452598</td>\n",
       "      <td>701.028237</td>\n",
       "    </tr>\n",
       "    <tr>\n",
       "      <th>10</th>\n",
       "      <td>Stir bowl</td>\n",
       "      <td>374.208768</td>\n",
       "      <td>443.531002</td>\n",
       "      <td>520.092569</td>\n",
       "      <td>455.962611</td>\n",
       "      <td>549.703528</td>\n",
       "      <td>1162.119273</td>\n",
       "      <td>847.484655</td>\n",
       "      <td>620.191653</td>\n",
       "    </tr>\n",
       "  </tbody>\n",
       "</table>\n",
       "</div>"
      ],
      "text/plain": [
       "Tracker               Step  Chest Euclidean Distance  \\\n",
       "0               Add Sugar                1170.091011   \n",
       "1        Add apples to pan               2344.988669   \n",
       "2         Add bottom crust                157.382911   \n",
       "3               Add butter                427.487776   \n",
       "4             Add cinnamon                113.008018   \n",
       "5            Add crust top                201.770038   \n",
       "6                Add water                153.981014   \n",
       "7           Post last step                573.552674   \n",
       "8               Pour syrup                 94.413539   \n",
       "9          Put pie in oven                422.700850   \n",
       "10               Stir bowl                374.208768   \n",
       "\n",
       "Tracker  HeadCamera Euclidean Distance  LeftElbow Euclidean Distance  \\\n",
       "0                          1528.348308                   1472.956809   \n",
       "1                          3274.813739                   2672.153843   \n",
       "2                           217.705582                    192.299875   \n",
       "3                           540.538002                    486.192224   \n",
       "4                           181.765418                    155.237545   \n",
       "5                           304.271309                    366.606081   \n",
       "6                           232.855560                    174.022086   \n",
       "7                           782.557761                    578.454458   \n",
       "8                           163.770799                    166.705077   \n",
       "9                           583.094933                    511.312859   \n",
       "10                          443.531002                    520.092569   \n",
       "\n",
       "Tracker  LeftShoulder Euclidean Distance  \\\n",
       "0                            1469.479488   \n",
       "1                            3108.914340   \n",
       "2                             171.735287   \n",
       "3                             477.866274   \n",
       "4                             152.036453   \n",
       "5                             304.984571   \n",
       "6                             183.790053   \n",
       "7                             589.206496   \n",
       "8                             154.378053   \n",
       "9                             504.001243   \n",
       "10                            455.962611   \n",
       "\n",
       "Tracker  MotionControllerLeft Euclidean Distance  \\\n",
       "0                                    1482.519391   \n",
       "1                                    2660.870183   \n",
       "2                                     206.842295   \n",
       "3                                     476.424223   \n",
       "4                                     144.311283   \n",
       "5                                     383.776629   \n",
       "6                                     164.283716   \n",
       "7                                     570.087392   \n",
       "8                                     192.135676   \n",
       "9                                     484.500992   \n",
       "10                                    549.703528   \n",
       "\n",
       "Tracker  MotionControllerRight Euclidean Distance  \\\n",
       "0                                     2502.618246   \n",
       "1                                     8043.298615   \n",
       "2                                      651.572765   \n",
       "3                                     1306.985480   \n",
       "4                                      381.119681   \n",
       "5                                      603.685648   \n",
       "6                                      406.946399   \n",
       "7                                     1311.690902   \n",
       "8                                      375.831706   \n",
       "9                                      991.293627   \n",
       "10                                    1162.119273   \n",
       "\n",
       "Tracker  RightElbow Euclidean Distance  RightShoulder Euclidean Distance  \n",
       "0                          2211.283018                       1746.598537  \n",
       "1                          5350.501010                       3900.905669  \n",
       "2                           482.770740                        297.599671  \n",
       "3                           963.798138                        706.778471  \n",
       "4                           328.953711                        222.022422  \n",
       "5                           483.479056                        362.584271  \n",
       "6                           372.477972                        259.926184  \n",
       "7                          1137.989375                        915.355602  \n",
       "8                           228.019399                        174.918945  \n",
       "9                           864.452598                        701.028237  \n",
       "10                          847.484655                        620.191653  "
      ]
     },
     "execution_count": 17,
     "metadata": {},
     "output_type": "execute_result"
    }
   ],
   "source": [
    "distance_columns = [\n",
    "    'Chest Euclidean Distance', 'LeftShoulder Euclidean Distance',\n",
    "    'RightShoulder Euclidean Distance', 'LeftElbow Euclidean Distance',\n",
    "    'RightElbow Euclidean Distance', 'MotionControllerLeft Euclidean Distance',\n",
    "    'MotionControllerRight Euclidean Distance', 'HeadCamera Euclidean Distance'\n",
    "]\n",
    "\n",
    "# Get the indices of the rows where 'Completed Step' is not NaN\n",
    "completed_indices = df.index[df['Completed Step'].notna()].tolist()\n",
    "\n",
    "cumulative_distances_trackers = {tracker: {} for tracker in distance_columns}\n",
    "\n",
    "\n",
    "for tracker in distance_columns:\n",
    "    for i in range(len(completed_indices)):\n",
    "        start_index = 0 if i == 0 else completed_indices[i - 1] + 1\n",
    "        end_index = completed_indices[i]\n",
    "        \n",
    "        # Get the step name\n",
    "        step_name = df.loc[end_index, 'Completed Step']\n",
    "        \n",
    "        # Calculate the cumulative distance for the given range\n",
    "        cumulative_distance = df.loc[start_index:end_index, tracker].sum()\n",
    "        \n",
    "        # Accumulate the total distance for each unique step\n",
    "        if step_name in cumulative_distances_trackers[tracker]:\n",
    "            cumulative_distances_trackers[tracker][step_name] += cumulative_distance\n",
    "        else:\n",
    "            cumulative_distances_trackers[tracker][step_name] = cumulative_distance\n",
    "\n",
    "    # Distance for the \"Post last step\"\n",
    "    last_step_index = completed_indices[-1] + 1\n",
    "    post_last_step_distance = df.loc[last_step_index:, tracker].sum()\n",
    "    cumulative_distances_trackers[tracker][\"Post last step\"] = post_last_step_distance\n",
    "\n",
    "# Create a combined DataFrame that includes all trackers in one table\n",
    "combined_data = []\n",
    "\n",
    "# Iterate through each tracker and their respective data to combine it into one list\n",
    "for tracker, distances in cumulative_distances_trackers.items():\n",
    "    for step, total_distance in distances.items():\n",
    "        combined_data.append({\n",
    "            'Step': step,\n",
    "            'Tracker': tracker,\n",
    "            'Total Distance': total_distance\n",
    "        })\n",
    "\n",
    "combined_df = pd.DataFrame(combined_data)\n",
    "\n",
    "combined_pivot_df = combined_df.pivot(index='Step', columns='Tracker', values='Total Distance').reset_index()\n",
    "combined_pivot_df"
   ]
  },
  {
   "cell_type": "code",
   "execution_count": 18,
   "id": "212bbe2a-1302-44ef-a324-a8bb01cbd63a",
   "metadata": {},
   "outputs": [
    {
     "data": {
      "text/plain": [
       "Tracker\n",
       "Chest Euclidean Distance                     6033.585268\n",
       "LeftShoulder Euclidean Distance              7572.354870\n",
       "RightShoulder Euclidean Distance             9907.909661\n",
       "LeftElbow Euclidean Distance                 7296.033427\n",
       "RightElbow Euclidean Distance               13271.209674\n",
       "MotionControllerLeft Euclidean Distance      7315.455306\n",
       "MotionControllerRight Euclidean Distance    17737.162340\n",
       "HeadCamera Euclidean Distance                8253.252412\n",
       "dtype: float64"
      ]
     },
     "execution_count": 18,
     "metadata": {},
     "output_type": "execute_result"
    }
   ],
   "source": [
    "total_sum = combined_pivot_df[distance_columns].sum()\n",
    "total_sum"
   ]
  },
  {
   "cell_type": "code",
   "execution_count": null,
   "id": "e92611f9-f1a5-4f48-893e-98858fd38513",
   "metadata": {},
   "outputs": [],
   "source": []
  }
 ],
 "metadata": {
  "kernelspec": {
   "display_name": "Python 3 (ipykernel)",
   "language": "python",
   "name": "python3"
  },
  "language_info": {
   "codemirror_mode": {
    "name": "ipython",
    "version": 3
   },
   "file_extension": ".py",
   "mimetype": "text/x-python",
   "name": "python",
   "nbconvert_exporter": "python",
   "pygments_lexer": "ipython3",
   "version": "3.11.7"
  }
 },
 "nbformat": 4,
 "nbformat_minor": 5
}
