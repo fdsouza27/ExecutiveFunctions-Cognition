{
 "cells": [
  {
   "cell_type": "code",
   "execution_count": 17,
   "id": "6aa535bd-1e8d-4699-b064-fd119724107d",
   "metadata": {},
   "outputs": [],
   "source": [
    "import os\n",
    "import pandas as pd\n",
    "import numpy as np"
   ]
  },
  {
   "cell_type": "code",
   "execution_count": 18,
   "id": "70bfdcdd-752d-41d4-bfe0-7e4cc2969e6a",
   "metadata": {},
   "outputs": [],
   "source": [
    "main_dir = 'C:/Users/FANNY MARIA D SOUZA/Capstone_Movement/VR Data/C032 D/'\n",
    "file_name = 'C032_ComplexPie_MovementData.csv'\n",
    "\n",
    "file_path = os.path.join(main_dir, file_name)\n",
    "\n",
    "df1 = pd.read_csv(file_path)"
   ]
  },
  {
   "cell_type": "code",
   "execution_count": 19,
   "id": "578034c7-b0f6-43ad-8f9d-6840ae9b3b58",
   "metadata": {},
   "outputs": [
    {
     "data": {
      "text/plain": [
       "(34160, 58)"
      ]
     },
     "execution_count": 19,
     "metadata": {},
     "output_type": "execute_result"
    }
   ],
   "source": [
    "df1.shape"
   ]
  },
  {
   "cell_type": "code",
   "execution_count": 20,
   "id": "2cca4522-06f9-4d8e-a6a8-b65650cebef5",
   "metadata": {},
   "outputs": [
    {
     "data": {
      "text/plain": [
       "Index(['Times', 'Chest Tracker_LOCATION_X', 'Chest Tracker_LOCATION_Y',\n",
       "       'Chest Tracker_LOCATION_Z', '_ROTATION_W', '_ROTATION_X', '_ROTATION_Y',\n",
       "       '_ROTATION_Z', 'LeftShoulder Tracker_LOCATION_X',\n",
       "       'LeftShoulder Tracker_LOCATION_Y', 'LeftShoulder Tracker_LOCATION_Z',\n",
       "       '_ROTATION_W.1', '_ROTATION_X.1', '_ROTATION_Y.1', '_ROTATION_Z.1',\n",
       "       'RightShoulder Tracker_LOCATION_X', 'RightShoulder Tracker_LOCATION_Y',\n",
       "       'RightShoulder Tracker_LOCATION_Z', '_ROTATION_W.2', '_ROTATION_X.2',\n",
       "       '_ROTATION_Y.2', '_ROTATION_Z.2', 'LeftElbow Tracker_LOCATION_X',\n",
       "       'LeftElbow Tracker_LOCATION_Y', 'LeftElbow Tracker_LOCATION_Z',\n",
       "       '_ROTATION_W.3', '_ROTATION_X.3', '_ROTATION_Y.3', '_ROTATION_Z.3',\n",
       "       'RightElbow Tracker_LOCATION_X', 'RightElbow Tracker_LOCATION_Y',\n",
       "       'RightElbow Tracker_LOCATION_Z', '_ROTATION_W.4', '_ROTATION_X.4',\n",
       "       '_ROTATION_Y.4', '_ROTATION_Z.4', 'MotionControllerLeft_LOCATION_X',\n",
       "       'MotionControllerLeft_LOCATION_Y', 'MotionControllerLeft_LOCATION_Z',\n",
       "       '_ROTATION_W.5', '_ROTATION_X.5', '_ROTATION_Y.5', '_ROTATION_Z.5',\n",
       "       'MotionControllerRight_LOCATION_X', 'MotionControllerRight_LOCATION_Y',\n",
       "       'MotionControllerRight_LOCATION_Z', '_ROTATION_W.6', '_ROTATION_X.6',\n",
       "       '_ROTATION_Y.6', '_ROTATION_Z.6', 'HeadCamera_LOCATION_X',\n",
       "       'HeadCamera_LOCATION_Y', 'HeadCamera_LOCATION_Z', '_ROTATION_W.7',\n",
       "       '_ROTATION_X.7', '_ROTATION_Y.7', '_ROTATION_Z.7', 'Unnamed: 57'],\n",
       "      dtype='object')"
      ]
     },
     "execution_count": 20,
     "metadata": {},
     "output_type": "execute_result"
    }
   ],
   "source": [
    "df1.columns"
   ]
  },
  {
   "cell_type": "code",
   "execution_count": 21,
   "id": "eb95d8a3-03cb-43b1-aa2e-1b590513631b",
   "metadata": {},
   "outputs": [],
   "source": [
    "df1 = df1.drop(columns=['Unnamed: 57'])"
   ]
  },
  {
   "cell_type": "markdown",
   "id": "8c325590-ef46-4c50-a4e8-7ba654cd32fa",
   "metadata": {},
   "source": [
    "#### 1) Euclidean Distance - Chest Tracker "
   ]
  },
  {
   "cell_type": "markdown",
   "id": "9b2a3f97-129a-4444-8f5c-71723792542d",
   "metadata": {},
   "source": [
    "##### Note - Euclidean Distance helps in computing distance between position coordinates. diff() function in pandas is used to compute the difference between the values of a DataFrame or Series across a specified axis (usually rows). By default, it calculates the difference between the current row and the previous row."
   ]
  },
  {
   "cell_type": "code",
   "execution_count": 22,
   "id": "3bb1f64e-7367-4caf-90c0-14d64f15abcf",
   "metadata": {},
   "outputs": [],
   "source": [
    "# Calculate Euclidean distance between consecutive time frames for the Chest Tracker\n",
    "df1['Chest Euclidean Distance'] = np.sqrt(\n",
    "    (df1['Chest Tracker_LOCATION_X'].diff() ** 2) + \n",
    "    (df1['Chest Tracker_LOCATION_Y'].diff() ** 2) + \n",
    "    (df1['Chest Tracker_LOCATION_Z'].diff() ** 2)\n",
    ")\n"
   ]
  },
  {
   "cell_type": "markdown",
   "id": "ea6a14ee-fcbf-4be1-924b-4f41fad22340",
   "metadata": {},
   "source": [
    "#### 2) Left Shoulder Tracker"
   ]
  },
  {
   "cell_type": "code",
   "execution_count": 23,
   "id": "3c3fa19d-0941-49da-b404-c293836b870e",
   "metadata": {},
   "outputs": [],
   "source": [
    "df1['LeftShoulder Euclidean Distance'] = np.sqrt(\n",
    "    (df1['LeftShoulder Tracker_LOCATION_X'].diff() ** 2) + \n",
    "    (df1['LeftShoulder Tracker_LOCATION_Y'].diff() ** 2) + \n",
    "    (df1['LeftShoulder Tracker_LOCATION_Z'].diff() ** 2)\n",
    ")"
   ]
  },
  {
   "cell_type": "markdown",
   "id": "fa5f0aef-8451-49ba-834d-036bdec7d482",
   "metadata": {},
   "source": [
    "#### 3) Right Shoulder Tracker"
   ]
  },
  {
   "cell_type": "code",
   "execution_count": 24,
   "id": "0064abe4-3a04-4ad1-9ce6-05ce4e6306c2",
   "metadata": {},
   "outputs": [],
   "source": [
    "df1['RightShoulder Euclidean Distance'] = np.sqrt(\n",
    "    (df1['RightShoulder Tracker_LOCATION_X'].diff() ** 2) + \n",
    "    (df1['RightShoulder Tracker_LOCATION_Y'].diff() ** 2) + \n",
    "    (df1['RightShoulder Tracker_LOCATION_Z'].diff() ** 2)\n",
    ")"
   ]
  },
  {
   "cell_type": "markdown",
   "id": "834ac4fd-4b13-456c-91f9-0848e63ec159",
   "metadata": {},
   "source": [
    "#### 4) Left Elbow Tracker"
   ]
  },
  {
   "cell_type": "code",
   "execution_count": 25,
   "id": "40966776-95e1-4f2e-a42c-53d55beeb459",
   "metadata": {},
   "outputs": [],
   "source": [
    "df1['LeftElbow Euclidean Distance'] = np.sqrt(\n",
    "    (df1['LeftElbow Tracker_LOCATION_X'].diff() ** 2) + \n",
    "    (df1['LeftElbow Tracker_LOCATION_Y'].diff() ** 2) + \n",
    "    (df1['LeftElbow Tracker_LOCATION_Z'].diff() ** 2)\n",
    ")\n"
   ]
  },
  {
   "cell_type": "markdown",
   "id": "430ca063-f2df-4ddb-b55c-f8f596a30d96",
   "metadata": {},
   "source": [
    "#### 5) Right Elbow Tracker"
   ]
  },
  {
   "cell_type": "code",
   "execution_count": 26,
   "id": "01ceec15-0554-4f4f-a8ea-4496eccd0e99",
   "metadata": {},
   "outputs": [],
   "source": [
    "df1['RightElbow Euclidean Distance'] = np.sqrt(\n",
    "    (df1['RightElbow Tracker_LOCATION_X'].diff() ** 2) + \n",
    "    (df1['RightElbow Tracker_LOCATION_Y'].diff() ** 2) + \n",
    "    (df1['RightElbow Tracker_LOCATION_Z'].diff() ** 2)\n",
    ")\n"
   ]
  },
  {
   "cell_type": "markdown",
   "id": "4f548bd0-374e-4ddf-9194-008e31a96e36",
   "metadata": {},
   "source": [
    "#### 6) Motion Controller Left"
   ]
  },
  {
   "cell_type": "code",
   "execution_count": 27,
   "id": "809850ae-bccf-4b12-bfb4-a06c45c6e833",
   "metadata": {},
   "outputs": [],
   "source": [
    "df1['MotionControllerLeft Euclidean Distance'] = np.sqrt(\n",
    "    (df1['MotionControllerLeft_LOCATION_X'].diff() ** 2) + \n",
    "    (df1['MotionControllerLeft_LOCATION_Y'].diff() ** 2) + \n",
    "    (df1['MotionControllerLeft_LOCATION_Z'].diff() ** 2)\n",
    ")"
   ]
  },
  {
   "cell_type": "markdown",
   "id": "ed230905-940a-466a-8247-591a2b9ffb96",
   "metadata": {},
   "source": [
    "#### 7) Motion Controller Right"
   ]
  },
  {
   "cell_type": "code",
   "execution_count": 28,
   "id": "e06558f0-3027-4e0a-bb98-5f4360a6beb6",
   "metadata": {},
   "outputs": [],
   "source": [
    "df1['MotionControllerRight Euclidean Distance'] = np.sqrt(\n",
    "    (df1['MotionControllerRight_LOCATION_X'].diff() ** 2) + \n",
    "    (df1['MotionControllerRight_LOCATION_Y'].diff() ** 2) + \n",
    "    (df1['MotionControllerRight_LOCATION_Z'].diff() ** 2)\n",
    ")"
   ]
  },
  {
   "cell_type": "markdown",
   "id": "eb5ea26d-ea76-4f1d-adcc-98f98ff408b9",
   "metadata": {},
   "source": [
    "#### 8) Head Camera"
   ]
  },
  {
   "cell_type": "code",
   "execution_count": 29,
   "id": "e258edfe-dd7d-44f8-a41a-754d54efd2b8",
   "metadata": {},
   "outputs": [],
   "source": [
    "df1['HeadCamera Euclidean Distance'] = np.sqrt(\n",
    "    (df1['HeadCamera_LOCATION_X'].diff() ** 2) + \n",
    "    (df1['HeadCamera_LOCATION_Y'].diff() ** 2) + \n",
    "    (df1['HeadCamera_LOCATION_Z'].diff() ** 2)\n",
    ")"
   ]
  },
  {
   "cell_type": "code",
   "execution_count": 30,
   "id": "dd5c0ae1-0345-4b47-a232-23a5e376f1d9",
   "metadata": {},
   "outputs": [
    {
     "data": {
      "text/html": [
       "<div>\n",
       "<style scoped>\n",
       "    .dataframe tbody tr th:only-of-type {\n",
       "        vertical-align: middle;\n",
       "    }\n",
       "\n",
       "    .dataframe tbody tr th {\n",
       "        vertical-align: top;\n",
       "    }\n",
       "\n",
       "    .dataframe thead th {\n",
       "        text-align: right;\n",
       "    }\n",
       "</style>\n",
       "<table border=\"1\" class=\"dataframe\">\n",
       "  <thead>\n",
       "    <tr style=\"text-align: right;\">\n",
       "      <th></th>\n",
       "      <th>Tracker</th>\n",
       "      <th>Total Distance</th>\n",
       "    </tr>\n",
       "  </thead>\n",
       "  <tbody>\n",
       "    <tr>\n",
       "      <th>0</th>\n",
       "      <td>Chest</td>\n",
       "      <td>0.000000</td>\n",
       "    </tr>\n",
       "    <tr>\n",
       "      <th>1</th>\n",
       "      <td>LeftShoulder</td>\n",
       "      <td>3657.483565</td>\n",
       "    </tr>\n",
       "    <tr>\n",
       "      <th>2</th>\n",
       "      <td>RightShoulder</td>\n",
       "      <td>7341.163529</td>\n",
       "    </tr>\n",
       "    <tr>\n",
       "      <th>3</th>\n",
       "      <td>LeftElbow</td>\n",
       "      <td>3136.425590</td>\n",
       "    </tr>\n",
       "    <tr>\n",
       "      <th>4</th>\n",
       "      <td>RightElbow</td>\n",
       "      <td>11331.897470</td>\n",
       "    </tr>\n",
       "    <tr>\n",
       "      <th>5</th>\n",
       "      <td>MotionControllerLeft</td>\n",
       "      <td>4364.854730</td>\n",
       "    </tr>\n",
       "    <tr>\n",
       "      <th>6</th>\n",
       "      <td>MotionControllerRight</td>\n",
       "      <td>16067.186816</td>\n",
       "    </tr>\n",
       "    <tr>\n",
       "      <th>7</th>\n",
       "      <td>HeadCamera</td>\n",
       "      <td>5721.031396</td>\n",
       "    </tr>\n",
       "  </tbody>\n",
       "</table>\n",
       "</div>"
      ],
      "text/plain": [
       "                 Tracker  Total Distance\n",
       "0                  Chest        0.000000\n",
       "1           LeftShoulder     3657.483565\n",
       "2          RightShoulder     7341.163529\n",
       "3              LeftElbow     3136.425590\n",
       "4             RightElbow    11331.897470\n",
       "5   MotionControllerLeft     4364.854730\n",
       "6  MotionControllerRight    16067.186816\n",
       "7             HeadCamera     5721.031396"
      ]
     },
     "execution_count": 30,
     "metadata": {},
     "output_type": "execute_result"
    }
   ],
   "source": [
    "total_distances = {\n",
    "    'Tracker': ['Chest', 'LeftShoulder', 'RightShoulder', 'LeftElbow', 'RightElbow', \n",
    "                'MotionControllerLeft', 'MotionControllerRight', 'HeadCamera'],\n",
    "    'Total Distance': [\n",
    "        df1['Chest Euclidean Distance'].sum(),\n",
    "        df1['LeftShoulder Euclidean Distance'].sum(),\n",
    "        df1['RightShoulder Euclidean Distance'].sum(),\n",
    "        df1['LeftElbow Euclidean Distance'].sum(),\n",
    "        df1['RightElbow Euclidean Distance'].sum(),\n",
    "        df1['MotionControllerLeft Euclidean Distance'].sum(),\n",
    "        df1['MotionControllerRight Euclidean Distance'].sum(),\n",
    "        df1['HeadCamera Euclidean Distance'].sum()\n",
    "    ]\n",
    "}\n",
    "\n",
    "# Create a new DataFrame from the dictionary\n",
    "total_distances_df = pd.DataFrame(total_distances)\n",
    "\n",
    "# Display the new dataframe\n",
    "total_distances_df"
   ]
  },
  {
   "cell_type": "code",
   "execution_count": 31,
   "id": "ca9ac5b8-9eee-490d-9235-dda249913c4f",
   "metadata": {},
   "outputs": [],
   "source": [
    "main_dir = 'C:/Users/FANNY MARIA D SOUZA/Capstone_Movement/VR Data/C032 D/'\n",
    "file_name = 'C032_ComplexPie_CompletedStepsData.csv'\n",
    "\n",
    "file_path = os.path.join(main_dir, file_name)\n",
    "\n",
    "df2 = pd.read_csv(file_path)"
   ]
  },
  {
   "cell_type": "code",
   "execution_count": 32,
   "id": "308e3fc1-fc08-4333-8344-da33a827d973",
   "metadata": {},
   "outputs": [],
   "source": [
    "df1.rename(columns={'Times': 'Session Time'}, inplace=True)\n",
    "df = pd.merge(df1, df2, on='Session Time', how='outer')"
   ]
  },
  {
   "cell_type": "code",
   "execution_count": 33,
   "id": "9e524ff4-a2f7-4b69-b26d-e8dcde4228de",
   "metadata": {},
   "outputs": [
    {
     "data": {
      "text/html": [
       "<div>\n",
       "<style scoped>\n",
       "    .dataframe tbody tr th:only-of-type {\n",
       "        vertical-align: middle;\n",
       "    }\n",
       "\n",
       "    .dataframe tbody tr th {\n",
       "        vertical-align: top;\n",
       "    }\n",
       "\n",
       "    .dataframe thead th {\n",
       "        text-align: right;\n",
       "    }\n",
       "</style>\n",
       "<table border=\"1\" class=\"dataframe\">\n",
       "  <thead>\n",
       "    <tr style=\"text-align: right;\">\n",
       "      <th>Tracker</th>\n",
       "      <th>Step</th>\n",
       "      <th>Chest Euclidean Distance</th>\n",
       "      <th>HeadCamera Euclidean Distance</th>\n",
       "      <th>LeftElbow Euclidean Distance</th>\n",
       "      <th>LeftShoulder Euclidean Distance</th>\n",
       "      <th>MotionControllerLeft Euclidean Distance</th>\n",
       "      <th>MotionControllerRight Euclidean Distance</th>\n",
       "      <th>RightElbow Euclidean Distance</th>\n",
       "      <th>RightShoulder Euclidean Distance</th>\n",
       "    </tr>\n",
       "  </thead>\n",
       "  <tbody>\n",
       "    <tr>\n",
       "      <th>0</th>\n",
       "      <td>Add Sugar</td>\n",
       "      <td>0.0</td>\n",
       "      <td>1175.288181</td>\n",
       "      <td>910.832299</td>\n",
       "      <td>885.951776</td>\n",
       "      <td>1000.996841</td>\n",
       "      <td>1820.149822</td>\n",
       "      <td>1520.769151</td>\n",
       "      <td>1094.566957</td>\n",
       "    </tr>\n",
       "    <tr>\n",
       "      <th>1</th>\n",
       "      <td>Add apples to pan</td>\n",
       "      <td>0.0</td>\n",
       "      <td>765.468839</td>\n",
       "      <td>305.526942</td>\n",
       "      <td>424.454928</td>\n",
       "      <td>499.493812</td>\n",
       "      <td>3008.847740</td>\n",
       "      <td>1780.217261</td>\n",
       "      <td>1068.079809</td>\n",
       "    </tr>\n",
       "    <tr>\n",
       "      <th>2</th>\n",
       "      <td>Add bottom crust</td>\n",
       "      <td>0.0</td>\n",
       "      <td>187.821488</td>\n",
       "      <td>120.190193</td>\n",
       "      <td>135.394280</td>\n",
       "      <td>178.384156</td>\n",
       "      <td>464.953386</td>\n",
       "      <td>325.286613</td>\n",
       "      <td>198.964045</td>\n",
       "    </tr>\n",
       "    <tr>\n",
       "      <th>3</th>\n",
       "      <td>Add butter</td>\n",
       "      <td>0.0</td>\n",
       "      <td>373.765058</td>\n",
       "      <td>215.439581</td>\n",
       "      <td>245.530463</td>\n",
       "      <td>333.341895</td>\n",
       "      <td>1143.894395</td>\n",
       "      <td>811.829165</td>\n",
       "      <td>542.755157</td>\n",
       "    </tr>\n",
       "    <tr>\n",
       "      <th>4</th>\n",
       "      <td>Add cinnamon</td>\n",
       "      <td>0.0</td>\n",
       "      <td>721.648570</td>\n",
       "      <td>209.697348</td>\n",
       "      <td>393.245932</td>\n",
       "      <td>345.162027</td>\n",
       "      <td>2906.800128</td>\n",
       "      <td>1887.526758</td>\n",
       "      <td>1071.856052</td>\n",
       "    </tr>\n",
       "    <tr>\n",
       "      <th>5</th>\n",
       "      <td>Add crust top</td>\n",
       "      <td>0.0</td>\n",
       "      <td>301.504152</td>\n",
       "      <td>117.881984</td>\n",
       "      <td>163.994843</td>\n",
       "      <td>232.897907</td>\n",
       "      <td>1145.697615</td>\n",
       "      <td>850.111883</td>\n",
       "      <td>521.691166</td>\n",
       "    </tr>\n",
       "    <tr>\n",
       "      <th>6</th>\n",
       "      <td>Add water</td>\n",
       "      <td>0.0</td>\n",
       "      <td>363.647792</td>\n",
       "      <td>159.001021</td>\n",
       "      <td>191.110609</td>\n",
       "      <td>253.905823</td>\n",
       "      <td>1179.540861</td>\n",
       "      <td>873.498690</td>\n",
       "      <td>546.065254</td>\n",
       "    </tr>\n",
       "    <tr>\n",
       "      <th>7</th>\n",
       "      <td>Post last step</td>\n",
       "      <td>0.0</td>\n",
       "      <td>549.486404</td>\n",
       "      <td>400.420925</td>\n",
       "      <td>425.611363</td>\n",
       "      <td>452.021635</td>\n",
       "      <td>1116.321060</td>\n",
       "      <td>921.281501</td>\n",
       "      <td>651.699438</td>\n",
       "    </tr>\n",
       "    <tr>\n",
       "      <th>8</th>\n",
       "      <td>Pour syrup</td>\n",
       "      <td>0.0</td>\n",
       "      <td>235.085362</td>\n",
       "      <td>106.531859</td>\n",
       "      <td>99.735549</td>\n",
       "      <td>202.383897</td>\n",
       "      <td>692.822511</td>\n",
       "      <td>481.110968</td>\n",
       "      <td>349.177338</td>\n",
       "    </tr>\n",
       "    <tr>\n",
       "      <th>9</th>\n",
       "      <td>Put pie in oven</td>\n",
       "      <td>0.0</td>\n",
       "      <td>622.092455</td>\n",
       "      <td>427.497024</td>\n",
       "      <td>476.911643</td>\n",
       "      <td>531.281483</td>\n",
       "      <td>1218.776806</td>\n",
       "      <td>950.985045</td>\n",
       "      <td>716.432922</td>\n",
       "    </tr>\n",
       "    <tr>\n",
       "      <th>10</th>\n",
       "      <td>Stir bowl</td>\n",
       "      <td>0.0</td>\n",
       "      <td>425.223095</td>\n",
       "      <td>163.406413</td>\n",
       "      <td>215.542178</td>\n",
       "      <td>334.985254</td>\n",
       "      <td>1369.382490</td>\n",
       "      <td>929.280436</td>\n",
       "      <td>579.875390</td>\n",
       "    </tr>\n",
       "  </tbody>\n",
       "</table>\n",
       "</div>"
      ],
      "text/plain": [
       "Tracker               Step  Chest Euclidean Distance  \\\n",
       "0               Add Sugar                        0.0   \n",
       "1        Add apples to pan                       0.0   \n",
       "2         Add bottom crust                       0.0   \n",
       "3               Add butter                       0.0   \n",
       "4             Add cinnamon                       0.0   \n",
       "5            Add crust top                       0.0   \n",
       "6                Add water                       0.0   \n",
       "7           Post last step                       0.0   \n",
       "8               Pour syrup                       0.0   \n",
       "9          Put pie in oven                       0.0   \n",
       "10               Stir bowl                       0.0   \n",
       "\n",
       "Tracker  HeadCamera Euclidean Distance  LeftElbow Euclidean Distance  \\\n",
       "0                          1175.288181                    910.832299   \n",
       "1                           765.468839                    305.526942   \n",
       "2                           187.821488                    120.190193   \n",
       "3                           373.765058                    215.439581   \n",
       "4                           721.648570                    209.697348   \n",
       "5                           301.504152                    117.881984   \n",
       "6                           363.647792                    159.001021   \n",
       "7                           549.486404                    400.420925   \n",
       "8                           235.085362                    106.531859   \n",
       "9                           622.092455                    427.497024   \n",
       "10                          425.223095                    163.406413   \n",
       "\n",
       "Tracker  LeftShoulder Euclidean Distance  \\\n",
       "0                             885.951776   \n",
       "1                             424.454928   \n",
       "2                             135.394280   \n",
       "3                             245.530463   \n",
       "4                             393.245932   \n",
       "5                             163.994843   \n",
       "6                             191.110609   \n",
       "7                             425.611363   \n",
       "8                              99.735549   \n",
       "9                             476.911643   \n",
       "10                            215.542178   \n",
       "\n",
       "Tracker  MotionControllerLeft Euclidean Distance  \\\n",
       "0                                    1000.996841   \n",
       "1                                     499.493812   \n",
       "2                                     178.384156   \n",
       "3                                     333.341895   \n",
       "4                                     345.162027   \n",
       "5                                     232.897907   \n",
       "6                                     253.905823   \n",
       "7                                     452.021635   \n",
       "8                                     202.383897   \n",
       "9                                     531.281483   \n",
       "10                                    334.985254   \n",
       "\n",
       "Tracker  MotionControllerRight Euclidean Distance  \\\n",
       "0                                     1820.149822   \n",
       "1                                     3008.847740   \n",
       "2                                      464.953386   \n",
       "3                                     1143.894395   \n",
       "4                                     2906.800128   \n",
       "5                                     1145.697615   \n",
       "6                                     1179.540861   \n",
       "7                                     1116.321060   \n",
       "8                                      692.822511   \n",
       "9                                     1218.776806   \n",
       "10                                    1369.382490   \n",
       "\n",
       "Tracker  RightElbow Euclidean Distance  RightShoulder Euclidean Distance  \n",
       "0                          1520.769151                       1094.566957  \n",
       "1                          1780.217261                       1068.079809  \n",
       "2                           325.286613                        198.964045  \n",
       "3                           811.829165                        542.755157  \n",
       "4                          1887.526758                       1071.856052  \n",
       "5                           850.111883                        521.691166  \n",
       "6                           873.498690                        546.065254  \n",
       "7                           921.281501                        651.699438  \n",
       "8                           481.110968                        349.177338  \n",
       "9                           950.985045                        716.432922  \n",
       "10                          929.280436                        579.875390  "
      ]
     },
     "execution_count": 33,
     "metadata": {},
     "output_type": "execute_result"
    }
   ],
   "source": [
    "distance_columns = [\n",
    "    'Chest Euclidean Distance', 'LeftShoulder Euclidean Distance',\n",
    "    'RightShoulder Euclidean Distance', 'LeftElbow Euclidean Distance',\n",
    "    'RightElbow Euclidean Distance', 'MotionControllerLeft Euclidean Distance',\n",
    "    'MotionControllerRight Euclidean Distance', 'HeadCamera Euclidean Distance'\n",
    "]\n",
    "\n",
    "# Get the indices of the rows where 'Completed Step' is not NaN\n",
    "completed_indices = df.index[df['Completed Step'].notna()].tolist()\n",
    "\n",
    "cumulative_distances_trackers = {tracker: {} for tracker in distance_columns}\n",
    "\n",
    "\n",
    "for tracker in distance_columns:\n",
    "    for i in range(len(completed_indices)):\n",
    "        start_index = 0 if i == 0 else completed_indices[i - 1] + 1\n",
    "        end_index = completed_indices[i]\n",
    "        \n",
    "        # Get the step name\n",
    "        step_name = df.loc[end_index, 'Completed Step']\n",
    "        \n",
    "        # Calculate the cumulative distance for the given range\n",
    "        cumulative_distance = df.loc[start_index:end_index, tracker].sum()\n",
    "        \n",
    "        # Accumulate the total distance for each unique step\n",
    "        if step_name in cumulative_distances_trackers[tracker]:\n",
    "            cumulative_distances_trackers[tracker][step_name] += cumulative_distance\n",
    "        else:\n",
    "            cumulative_distances_trackers[tracker][step_name] = cumulative_distance\n",
    "\n",
    "    # Distance for the \"Post last step\"\n",
    "    last_step_index = completed_indices[-1] + 1\n",
    "    post_last_step_distance = df.loc[last_step_index:, tracker].sum()\n",
    "    cumulative_distances_trackers[tracker][\"Post last step\"] = post_last_step_distance\n",
    "\n",
    "# Create a combined DataFrame that includes all trackers in one table\n",
    "combined_data = []\n",
    "\n",
    "# Iterate through each tracker and their respective data to combine it into one list\n",
    "for tracker, distances in cumulative_distances_trackers.items():\n",
    "    for step, total_distance in distances.items():\n",
    "        combined_data.append({\n",
    "            'Step': step,\n",
    "            'Tracker': tracker,\n",
    "            'Total Distance': total_distance\n",
    "        })\n",
    "\n",
    "combined_df = pd.DataFrame(combined_data)\n",
    "\n",
    "combined_pivot_df = combined_df.pivot(index='Step', columns='Tracker', values='Total Distance').reset_index()\n",
    "combined_pivot_df"
   ]
  },
  {
   "cell_type": "code",
   "execution_count": 34,
   "id": "33398d67-e893-412b-b64d-95f823b978b4",
   "metadata": {},
   "outputs": [
    {
     "data": {
      "text/plain": [
       "Tracker\n",
       "Chest Euclidean Distance                        0.000000\n",
       "LeftShoulder Euclidean Distance              3657.483565\n",
       "RightShoulder Euclidean Distance             7341.163529\n",
       "LeftElbow Euclidean Distance                 3136.425590\n",
       "RightElbow Euclidean Distance               11331.897470\n",
       "MotionControllerLeft Euclidean Distance      4364.854730\n",
       "MotionControllerRight Euclidean Distance    16067.186816\n",
       "HeadCamera Euclidean Distance                5721.031396\n",
       "dtype: float64"
      ]
     },
     "execution_count": 34,
     "metadata": {},
     "output_type": "execute_result"
    }
   ],
   "source": [
    "total_sum = combined_pivot_df[distance_columns].sum()\n",
    "total_sum"
   ]
  }
 ],
 "metadata": {
  "kernelspec": {
   "display_name": "Python 3 (ipykernel)",
   "language": "python",
   "name": "python3"
  },
  "language_info": {
   "codemirror_mode": {
    "name": "ipython",
    "version": 3
   },
   "file_extension": ".py",
   "mimetype": "text/x-python",
   "name": "python",
   "nbconvert_exporter": "python",
   "pygments_lexer": "ipython3",
   "version": "3.11.7"
  }
 },
 "nbformat": 4,
 "nbformat_minor": 5
}
